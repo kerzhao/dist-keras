{
 "cells": [
  {
   "cell_type": "markdown",
   "metadata": {},
   "source": [
    "# MNIST using Distributed Keras\n",
    "\n",
    "**Joeri Hermans** (Technical Student, IT-DB-SAS, CERN)             \n",
    "*Departement of Knowledge Engineering*         \n",
    "*Maastricht University, The Netherlands*"
   ]
  },
  {
   "cell_type": "code",
   "execution_count": null,
   "metadata": {
    "collapsed": false
   },
   "outputs": [],
   "source": [
    "!(date +%d\\ %B\\ %G)"
   ]
  },
  {
   "cell_type": "markdown",
   "metadata": {},
   "source": [
    "In this notebook we will show you how to process the [MNIST](http://yann.lecun.com/exdb/mnist/) dataset using Distributed Keras. As in the [workflow](https://github.com/JoeriHermans/dist-keras/blob/master/examples/workflow.ipynb) notebook, we will guide you through the complete machine learning pipeline.\n",
    "\n",
    "## Preparation\n",
    "\n",
    "To get started, we first load all the required imports. Please make sure you installed `dist-keras`, and `seaborn`. Furthermore, we assume that you have access to an installation which provides Apache Spark.\n",
    "\n",
    "Before you start this notebook, place the MNIST dataset (which is provided in this repository) on HDFS. Or in the case HDFS is not available, place it on the local filesystem. But make sure the path to the file is identical for all computing nodes."
   ]
  },
  {
   "cell_type": "code",
   "execution_count": 1,
   "metadata": {
    "collapsed": false
   },
   "outputs": [
    {
     "name": "stderr",
     "output_type": "stream",
     "text": [
      "Using TensorFlow backend.\n"
     ]
    }
   ],
   "source": [
    "%matplotlib inline\n",
    "\n",
    "import numpy as np\n",
    "\n",
    "import seaborn as sns\n",
    "\n",
    "from keras.optimizers import *\n",
    "from keras.models import Sequential\n",
    "from keras.layers.core import *\n",
    "from keras.layers.convolutional import *\n",
    "\n",
    "from pyspark import SparkContext\n",
    "from pyspark import SparkConf\n",
    "\n",
    "from matplotlib import pyplot as plt\n",
    "import matplotlib.patches as mpatches\n",
    "\n",
    "from pyspark.ml.feature import StandardScaler\n",
    "from pyspark.ml.feature import VectorAssembler\n",
    "from pyspark.ml.feature import OneHotEncoder\n",
    "from pyspark.ml.feature import MinMaxScaler\n",
    "from pyspark.ml.feature import StringIndexer\n",
    "from pyspark.ml.evaluation import MulticlassClassificationEvaluator\n",
    "\n",
    "from distkeras.trainers import *\n",
    "from distkeras.predictors import *\n",
    "from distkeras.transformers import *\n",
    "from distkeras.evaluators import *\n",
    "from distkeras.utils import *"
   ]
  },
  {
   "cell_type": "markdown",
   "metadata": {},
   "source": [
    "In the following cell, adapt the parameters to fit your personal requirements."
   ]
  },
  {
   "cell_type": "code",
   "execution_count": 2,
   "metadata": {
    "collapsed": true
   },
   "outputs": [],
   "source": [
    "# Modify these variables according to your needs.\n",
    "application_name = \"Distributed Keras MNIST Notebook\"\n",
    "using_spark_2 = False\n",
    "local = False\n",
    "path_train = \"data/mnist_train.csv\"\n",
    "path_test = \"data/mnist_test.csv\"\n",
    "if local:\n",
    "    # Tell master to use local resources.\n",
    "    master = \"local[*]\"\n",
    "    num_processes = 3\n",
    "    num_executors = 1\n",
    "else:\n",
    "    # Tell master to use YARN.\n",
    "    master = \"yarn-client\"\n",
    "    num_executors = 20\n",
    "    num_processes = 1"
   ]
  },
  {
   "cell_type": "code",
   "execution_count": 3,
   "metadata": {
    "collapsed": false
   },
   "outputs": [
    {
     "name": "stdout",
     "output_type": "stream",
     "text": [
      "Number of desired executors: 20\n",
      "Number of desired processes / executor: 1\n",
      "Total number of workers: 20\n"
     ]
    }
   ],
   "source": [
    "# This variable is derived from the number of cores and executors, and will be used to assign the number of model trainers.\n",
    "num_workers = num_executors * num_processes\n",
    "\n",
    "print(\"Number of desired executors: \" + `num_executors`)\n",
    "print(\"Number of desired processes / executor: \" + `num_processes`)\n",
    "print(\"Total number of workers: \" + `num_workers`)"
   ]
  },
  {
   "cell_type": "code",
   "execution_count": 4,
   "metadata": {
    "collapsed": true
   },
   "outputs": [],
   "source": [
    "import os\n",
    "\n",
    "# Use the DataBricks CSV reader, this has some nice functionality regarding invalid values.\n",
    "os.environ['PYSPARK_SUBMIT_ARGS'] = '--packages com.databricks:spark-csv_2.10:1.4.0 pyspark-shell'"
   ]
  },
  {
   "cell_type": "code",
   "execution_count": 5,
   "metadata": {
    "collapsed": false
   },
   "outputs": [],
   "source": [
    "conf = SparkConf()\n",
    "conf.set(\"spark.app.name\", application_name)\n",
    "conf.set(\"spark.master\", master)\n",
    "conf.set(\"spark.executor.cores\", `num_processes`)\n",
    "conf.set(\"spark.executor.instances\", `num_executors`)\n",
    "conf.set(\"spark.executor.memory\", \"4g\")\n",
    "conf.set(\"spark.locality.wait\", \"0\")\n",
    "conf.set(\"spark.serializer\", \"org.apache.spark.serializer.KryoSerializer\");\n",
    "\n",
    "# Check if the user is running Spark 2.0 +\n",
    "if using_spark_2:\n",
    "    sc = SparkSession.builder.config(conf=conf) \\\n",
    "            .appName(application_name) \\\n",
    "            .getOrCreate()\n",
    "else:\n",
    "    # Create the Spark context.\n",
    "    #sc = SparkContext(conf=conf)\n",
    "    sc.conf = conf\n",
    "    # Add the missing imports\n",
    "    from pyspark import SQLContext\n",
    "    sqlContext = SQLContext(sc)"
   ]
  },
  {
   "cell_type": "code",
   "execution_count": 6,
   "metadata": {
    "collapsed": false
   },
   "outputs": [],
   "source": [
    "# Check if we are using Spark 2.0\n",
    "if using_spark_2:\n",
    "    reader = sc\n",
    "else:\n",
    "    reader = sqlContext\n",
    "# Read the training dataset.\n",
    "raw_dataset_train = reader.read.format('com.databricks.spark.csv') \\\n",
    "                          .options(header='true', inferSchema='true') \\\n",
    "                          .load(path_train)\n",
    "# Read the testing dataset.\n",
    "raw_dataset_test = reader.read.format('com.databricks.spark.csv') \\\n",
    "                         .options(header='true', inferSchema='true') \\\n",
    "                         .load(path_test)"
   ]
  },
  {
   "cell_type": "markdown",
   "metadata": {},
   "source": [
    "As shown in the output of the cell above, we see that every pixel is associated with a seperate column. In order to ensure compatibility with Apache Spark, we vectorize the columns, and add the resulting vectors as a seperate column. However, in order to achieve this, we first need a list of the required columns. This is shown in the cell below."
   ]
  },
  {
   "cell_type": "code",
   "execution_count": 14,
   "metadata": {
    "collapsed": false
   },
   "outputs": [
    {
     "name": "stdout",
     "output_type": "stream",
     "text": [
      "root\n",
      " |-- 5: integer (nullable = true)\n",
      " |-- 01: integer (nullable = true)\n",
      " |-- 02: integer (nullable = true)\n",
      " |-- 03: integer (nullable = true)\n",
      " |-- 04: integer (nullable = true)\n",
      " |-- 05: integer (nullable = true)\n",
      " |-- 06: integer (nullable = true)\n",
      " |-- 07: integer (nullable = true)\n",
      " |-- 08: integer (nullable = true)\n",
      " |-- 09: integer (nullable = true)\n",
      " |-- 010: integer (nullable = true)\n",
      " |-- 011: integer (nullable = true)\n",
      " |-- 012: integer (nullable = true)\n",
      " |-- 013: integer (nullable = true)\n",
      " |-- 014: integer (nullable = true)\n",
      " |-- 015: integer (nullable = true)\n",
      " |-- 016: integer (nullable = true)\n",
      " |-- 017: integer (nullable = true)\n",
      " |-- 018: integer (nullable = true)\n",
      " |-- 019: integer (nullable = true)\n",
      " |-- 020: integer (nullable = true)\n",
      " |-- 021: integer (nullable = true)\n",
      " |-- 022: integer (nullable = true)\n",
      " |-- 023: integer (nullable = true)\n",
      " |-- 024: integer (nullable = true)\n",
      " |-- 025: integer (nullable = true)\n",
      " |-- 026: integer (nullable = true)\n",
      " |-- 027: integer (nullable = true)\n",
      " |-- 028: integer (nullable = true)\n",
      " |-- 029: integer (nullable = true)\n",
      " |-- 030: integer (nullable = true)\n",
      " |-- 031: integer (nullable = true)\n",
      " |-- 032: integer (nullable = true)\n",
      " |-- 033: integer (nullable = true)\n",
      " |-- 034: integer (nullable = true)\n",
      " |-- 035: integer (nullable = true)\n",
      " |-- 036: integer (nullable = true)\n",
      " |-- 037: integer (nullable = true)\n",
      " |-- 038: integer (nullable = true)\n",
      " |-- 039: integer (nullable = true)\n",
      " |-- 040: integer (nullable = true)\n",
      " |-- 041: integer (nullable = true)\n",
      " |-- 042: integer (nullable = true)\n",
      " |-- 043: integer (nullable = true)\n",
      " |-- 044: integer (nullable = true)\n",
      " |-- 045: integer (nullable = true)\n",
      " |-- 046: integer (nullable = true)\n",
      " |-- 047: integer (nullable = true)\n",
      " |-- 048: integer (nullable = true)\n",
      " |-- 049: integer (nullable = true)\n",
      " |-- 050: integer (nullable = true)\n",
      " |-- 051: integer (nullable = true)\n",
      " |-- 052: integer (nullable = true)\n",
      " |-- 053: integer (nullable = true)\n",
      " |-- 054: integer (nullable = true)\n",
      " |-- 055: integer (nullable = true)\n",
      " |-- 056: integer (nullable = true)\n",
      " |-- 057: integer (nullable = true)\n",
      " |-- 058: integer (nullable = true)\n",
      " |-- 059: integer (nullable = true)\n",
      " |-- 060: integer (nullable = true)\n",
      " |-- 061: integer (nullable = true)\n",
      " |-- 062: integer (nullable = true)\n",
      " |-- 063: integer (nullable = true)\n",
      " |-- 064: integer (nullable = true)\n",
      " |-- 065: integer (nullable = true)\n",
      " |-- 066: integer (nullable = true)\n",
      " |-- 067: integer (nullable = true)\n",
      " |-- 068: integer (nullable = true)\n",
      " |-- 069: integer (nullable = true)\n",
      " |-- 070: integer (nullable = true)\n",
      " |-- 071: integer (nullable = true)\n",
      " |-- 072: integer (nullable = true)\n",
      " |-- 073: integer (nullable = true)\n",
      " |-- 074: integer (nullable = true)\n",
      " |-- 075: integer (nullable = true)\n",
      " |-- 076: integer (nullable = true)\n",
      " |-- 077: integer (nullable = true)\n",
      " |-- 078: integer (nullable = true)\n",
      " |-- 079: integer (nullable = true)\n",
      " |-- 080: integer (nullable = true)\n",
      " |-- 081: integer (nullable = true)\n",
      " |-- 082: integer (nullable = true)\n",
      " |-- 083: integer (nullable = true)\n",
      " |-- 084: integer (nullable = true)\n",
      " |-- 085: integer (nullable = true)\n",
      " |-- 086: integer (nullable = true)\n",
      " |-- 087: integer (nullable = true)\n",
      " |-- 088: integer (nullable = true)\n",
      " |-- 089: integer (nullable = true)\n",
      " |-- 090: integer (nullable = true)\n",
      " |-- 091: integer (nullable = true)\n",
      " |-- 092: integer (nullable = true)\n",
      " |-- 093: integer (nullable = true)\n",
      " |-- 094: integer (nullable = true)\n",
      " |-- 095: integer (nullable = true)\n",
      " |-- 096: integer (nullable = true)\n",
      " |-- 097: integer (nullable = true)\n",
      " |-- 098: integer (nullable = true)\n",
      " |-- 099: integer (nullable = true)\n",
      " |-- 0100: integer (nullable = true)\n",
      " |-- 0101: integer (nullable = true)\n",
      " |-- 0102: integer (nullable = true)\n",
      " |-- 0103: integer (nullable = true)\n",
      " |-- 0104: integer (nullable = true)\n",
      " |-- 0105: integer (nullable = true)\n",
      " |-- 0106: integer (nullable = true)\n",
      " |-- 0107: integer (nullable = true)\n",
      " |-- 0108: integer (nullable = true)\n",
      " |-- 0109: integer (nullable = true)\n",
      " |-- 0110: integer (nullable = true)\n",
      " |-- 0111: integer (nullable = true)\n",
      " |-- 0112: integer (nullable = true)\n",
      " |-- 0113: integer (nullable = true)\n",
      " |-- 0114: integer (nullable = true)\n",
      " |-- 0115: integer (nullable = true)\n",
      " |-- 0116: integer (nullable = true)\n",
      " |-- 0117: integer (nullable = true)\n",
      " |-- 0118: integer (nullable = true)\n",
      " |-- 0119: integer (nullable = true)\n",
      " |-- 0120: integer (nullable = true)\n",
      " |-- 0121: integer (nullable = true)\n",
      " |-- 0122: integer (nullable = true)\n",
      " |-- 0123: integer (nullable = true)\n",
      " |-- 0124: integer (nullable = true)\n",
      " |-- 0125: integer (nullable = true)\n",
      " |-- 0126: integer (nullable = true)\n",
      " |-- 0127: integer (nullable = true)\n",
      " |-- 0128: integer (nullable = true)\n",
      " |-- 0129: integer (nullable = true)\n",
      " |-- 0130: integer (nullable = true)\n",
      " |-- 0131: integer (nullable = true)\n",
      " |-- 0132: integer (nullable = true)\n",
      " |-- 0133: integer (nullable = true)\n",
      " |-- 0134: integer (nullable = true)\n",
      " |-- 0135: integer (nullable = true)\n",
      " |-- 0136: integer (nullable = true)\n",
      " |-- 0137: integer (nullable = true)\n",
      " |-- 0138: integer (nullable = true)\n",
      " |-- 0139: integer (nullable = true)\n",
      " |-- 0140: integer (nullable = true)\n",
      " |-- 0141: integer (nullable = true)\n",
      " |-- 0142: integer (nullable = true)\n",
      " |-- 0143: integer (nullable = true)\n",
      " |-- 0144: integer (nullable = true)\n",
      " |-- 0145: integer (nullable = true)\n",
      " |-- 0146: integer (nullable = true)\n",
      " |-- 0147: integer (nullable = true)\n",
      " |-- 0148: integer (nullable = true)\n",
      " |-- 0149: integer (nullable = true)\n",
      " |-- 0150: integer (nullable = true)\n",
      " |-- 0151: integer (nullable = true)\n",
      " |-- 0152: integer (nullable = true)\n",
      " |-- 3: integer (nullable = true)\n",
      " |-- 18154: integer (nullable = true)\n",
      " |-- 18155: integer (nullable = true)\n",
      " |-- 18156: integer (nullable = true)\n",
      " |-- 126: integer (nullable = true)\n",
      " |-- 136158: integer (nullable = true)\n",
      " |-- 175: integer (nullable = true)\n",
      " |-- 26: integer (nullable = true)\n",
      " |-- 166: integer (nullable = true)\n",
      " |-- 255: integer (nullable = true)\n",
      " |-- 247163: integer (nullable = true)\n",
      " |-- 127: integer (nullable = true)\n",
      " |-- 0165: integer (nullable = true)\n",
      " |-- 0166: integer (nullable = true)\n",
      " |-- 0167: integer (nullable = true)\n",
      " |-- 0168: integer (nullable = true)\n",
      " |-- 0169: integer (nullable = true)\n",
      " |-- 0170: integer (nullable = true)\n",
      " |-- 0171: integer (nullable = true)\n",
      " |-- 0172: integer (nullable = true)\n",
      " |-- 0173: integer (nullable = true)\n",
      " |-- 0174: integer (nullable = true)\n",
      " |-- 0175: integer (nullable = true)\n",
      " |-- 0176: integer (nullable = true)\n",
      " |-- 30: integer (nullable = true)\n",
      " |-- 36: integer (nullable = true)\n",
      " |-- 94: integer (nullable = true)\n",
      " |-- 154180: integer (nullable = true)\n",
      " |-- 170: integer (nullable = true)\n",
      " |-- 253182: integer (nullable = true)\n",
      " |-- 253183: integer (nullable = true)\n",
      " |-- 253184: integer (nullable = true)\n",
      " |-- 253185: integer (nullable = true)\n",
      " |-- 253186: integer (nullable = true)\n",
      " |-- 225187: integer (nullable = true)\n",
      " |-- 172188: integer (nullable = true)\n",
      " |-- 253189: integer (nullable = true)\n",
      " |-- 242: integer (nullable = true)\n",
      " |-- 195191: integer (nullable = true)\n",
      " |-- 64192: integer (nullable = true)\n",
      " |-- 0193: integer (nullable = true)\n",
      " |-- 0194: integer (nullable = true)\n",
      " |-- 0195: integer (nullable = true)\n",
      " |-- 0196: integer (nullable = true)\n",
      " |-- 0197: integer (nullable = true)\n",
      " |-- 0198: integer (nullable = true)\n",
      " |-- 0199: integer (nullable = true)\n",
      " |-- 0200: integer (nullable = true)\n",
      " |-- 0201: integer (nullable = true)\n",
      " |-- 0202: integer (nullable = true)\n",
      " |-- 0203: integer (nullable = true)\n",
      " |-- 49: integer (nullable = true)\n",
      " |-- 238: integer (nullable = true)\n",
      " |-- 253206: integer (nullable = true)\n",
      " |-- 253207: integer (nullable = true)\n",
      " |-- 253208: integer (nullable = true)\n",
      " |-- 253209: integer (nullable = true)\n",
      " |-- 253210: integer (nullable = true)\n",
      " |-- 253211: integer (nullable = true)\n",
      " |-- 253212: integer (nullable = true)\n",
      " |-- 253213: integer (nullable = true)\n",
      " |-- 251: integer (nullable = true)\n",
      " |-- 93215: integer (nullable = true)\n",
      " |-- 82216: integer (nullable = true)\n",
      " |-- 82217: integer (nullable = true)\n",
      " |-- 56: integer (nullable = true)\n",
      " |-- 39219: integer (nullable = true)\n",
      " |-- 0220: integer (nullable = true)\n",
      " |-- 0221: integer (nullable = true)\n",
      " |-- 0222: integer (nullable = true)\n",
      " |-- 0223: integer (nullable = true)\n",
      " |-- 0224: integer (nullable = true)\n",
      " |-- 0225: integer (nullable = true)\n",
      " |-- 0226: integer (nullable = true)\n",
      " |-- 0227: integer (nullable = true)\n",
      " |-- 0228: integer (nullable = true)\n",
      " |-- 0229: integer (nullable = true)\n",
      " |-- 0230: integer (nullable = true)\n",
      " |-- 0231: integer (nullable = true)\n",
      " |-- 18232: integer (nullable = true)\n",
      " |-- 219233: integer (nullable = true)\n",
      " |-- 253234: integer (nullable = true)\n",
      " |-- 253235: integer (nullable = true)\n",
      " |-- 253236: integer (nullable = true)\n",
      " |-- 253237: integer (nullable = true)\n",
      " |-- 253238: integer (nullable = true)\n",
      " |-- 198239: integer (nullable = true)\n",
      " |-- 182240: integer (nullable = true)\n",
      " |-- 247241: integer (nullable = true)\n",
      " |-- 241242: integer (nullable = true)\n",
      " |-- 0243: integer (nullable = true)\n",
      " |-- 0244: integer (nullable = true)\n",
      " |-- 0245: integer (nullable = true)\n",
      " |-- 0246: integer (nullable = true)\n",
      " |-- 0247: integer (nullable = true)\n",
      " |-- 0248: integer (nullable = true)\n",
      " |-- 0249: integer (nullable = true)\n",
      " |-- 0250: integer (nullable = true)\n",
      " |-- 0251: integer (nullable = true)\n",
      " |-- 0252: integer (nullable = true)\n",
      " |-- 0253: integer (nullable = true)\n",
      " |-- 0254: integer (nullable = true)\n",
      " |-- 0255: integer (nullable = true)\n",
      " |-- 0256: integer (nullable = true)\n",
      " |-- 0257: integer (nullable = true)\n",
      " |-- 0258: integer (nullable = true)\n",
      " |-- 0259: integer (nullable = true)\n",
      " |-- 0260: integer (nullable = true)\n",
      " |-- 80261: integer (nullable = true)\n",
      " |-- 156: integer (nullable = true)\n",
      " |-- 107: integer (nullable = true)\n",
      " |-- 253264: integer (nullable = true)\n",
      " |-- 253265: integer (nullable = true)\n",
      " |-- 205: integer (nullable = true)\n",
      " |-- 11267: integer (nullable = true)\n",
      " |-- 0268: integer (nullable = true)\n",
      " |-- 43: integer (nullable = true)\n",
      " |-- 154270: integer (nullable = true)\n",
      " |-- 0271: integer (nullable = true)\n",
      " |-- 0272: integer (nullable = true)\n",
      " |-- 0273: integer (nullable = true)\n",
      " |-- 0274: integer (nullable = true)\n",
      " |-- 0275: integer (nullable = true)\n",
      " |-- 0276: integer (nullable = true)\n",
      " |-- 0277: integer (nullable = true)\n",
      " |-- 0278: integer (nullable = true)\n",
      " |-- 0279: integer (nullable = true)\n",
      " |-- 0280: integer (nullable = true)\n",
      " |-- 0281: integer (nullable = true)\n",
      " |-- 0282: integer (nullable = true)\n",
      " |-- 0283: integer (nullable = true)\n",
      " |-- 0284: integer (nullable = true)\n",
      " |-- 0285: integer (nullable = true)\n",
      " |-- 0286: integer (nullable = true)\n",
      " |-- 0287: integer (nullable = true)\n",
      " |-- 0288: integer (nullable = true)\n",
      " |-- 0289: integer (nullable = true)\n",
      " |-- 14: integer (nullable = true)\n",
      " |-- 1291: integer (nullable = true)\n",
      " |-- 154292: integer (nullable = true)\n",
      " |-- 253293: integer (nullable = true)\n",
      " |-- 90: integer (nullable = true)\n",
      " |-- 0295: integer (nullable = true)\n",
      " |-- 0296: integer (nullable = true)\n",
      " |-- 0297: integer (nullable = true)\n",
      " |-- 0298: integer (nullable = true)\n",
      " |-- 0299: integer (nullable = true)\n",
      " |-- 0300: integer (nullable = true)\n",
      " |-- 0301: integer (nullable = true)\n",
      " |-- 0302: integer (nullable = true)\n",
      " |-- 0303: integer (nullable = true)\n",
      " |-- 0304: integer (nullable = true)\n",
      " |-- 0305: integer (nullable = true)\n",
      " |-- 0306: integer (nullable = true)\n",
      " |-- 0307: integer (nullable = true)\n",
      " |-- 0308: integer (nullable = true)\n",
      " |-- 0309: integer (nullable = true)\n",
      " |-- 0310: integer (nullable = true)\n",
      " |-- 0311: integer (nullable = true)\n",
      " |-- 0312: integer (nullable = true)\n",
      " |-- 0313: integer (nullable = true)\n",
      " |-- 0314: integer (nullable = true)\n",
      " |-- 0315: integer (nullable = true)\n",
      " |-- 0316: integer (nullable = true)\n",
      " |-- 0317: integer (nullable = true)\n",
      " |-- 0318: integer (nullable = true)\n",
      " |-- 0319: integer (nullable = true)\n",
      " |-- 139: integer (nullable = true)\n",
      " |-- 253321: integer (nullable = true)\n",
      " |-- 190322: integer (nullable = true)\n",
      " |-- 2323: integer (nullable = true)\n",
      " |-- 0324: integer (nullable = true)\n",
      " |-- 0325: integer (nullable = true)\n",
      " |-- 0326: integer (nullable = true)\n",
      " |-- 0327: integer (nullable = true)\n",
      " |-- 0328: integer (nullable = true)\n",
      " |-- 0329: integer (nullable = true)\n",
      " |-- 0330: integer (nullable = true)\n",
      " |-- 0331: integer (nullable = true)\n",
      " |-- 0332: integer (nullable = true)\n",
      " |-- 0333: integer (nullable = true)\n",
      " |-- 0334: integer (nullable = true)\n",
      " |-- 0335: integer (nullable = true)\n",
      " |-- 0336: integer (nullable = true)\n",
      " |-- 0337: integer (nullable = true)\n",
      " |-- 0338: integer (nullable = true)\n",
      " |-- 0339: integer (nullable = true)\n",
      " |-- 0340: integer (nullable = true)\n",
      " |-- 0341: integer (nullable = true)\n",
      " |-- 0342: integer (nullable = true)\n",
      " |-- 0343: integer (nullable = true)\n",
      " |-- 0344: integer (nullable = true)\n",
      " |-- 0345: integer (nullable = true)\n",
      " |-- 0346: integer (nullable = true)\n",
      " |-- 0347: integer (nullable = true)\n",
      " |-- 11348: integer (nullable = true)\n",
      " |-- 190349: integer (nullable = true)\n",
      " |-- 253350: integer (nullable = true)\n",
      " |-- 70: integer (nullable = true)\n",
      " |-- 0352: integer (nullable = true)\n",
      " |-- 0353: integer (nullable = true)\n",
      " |-- 0354: integer (nullable = true)\n",
      " |-- 0355: integer (nullable = true)\n",
      " |-- 0356: integer (nullable = true)\n",
      " |-- 0357: integer (nullable = true)\n",
      " |-- 0358: integer (nullable = true)\n",
      " |-- 0359: integer (nullable = true)\n",
      " |-- 0360: integer (nullable = true)\n",
      " |-- 0361: integer (nullable = true)\n",
      " |-- 0362: integer (nullable = true)\n",
      " |-- 0363: integer (nullable = true)\n",
      " |-- 0364: integer (nullable = true)\n",
      " |-- 0365: integer (nullable = true)\n",
      " |-- 0366: integer (nullable = true)\n",
      " |-- 0367: integer (nullable = true)\n",
      " |-- 0368: integer (nullable = true)\n",
      " |-- 0369: integer (nullable = true)\n",
      " |-- 0370: integer (nullable = true)\n",
      " |-- 0371: integer (nullable = true)\n",
      " |-- 0372: integer (nullable = true)\n",
      " |-- 0373: integer (nullable = true)\n",
      " |-- 0374: integer (nullable = true)\n",
      " |-- 0375: integer (nullable = true)\n",
      " |-- 0376: integer (nullable = true)\n",
      " |-- 35: integer (nullable = true)\n",
      " |-- 241378: integer (nullable = true)\n",
      " |-- 225379: integer (nullable = true)\n",
      " |-- 160: integer (nullable = true)\n",
      " |-- 108: integer (nullable = true)\n",
      " |-- 1382: integer (nullable = true)\n",
      " |-- 0383: integer (nullable = true)\n",
      " |-- 0384: integer (nullable = true)\n",
      " |-- 0385: integer (nullable = true)\n",
      " |-- 0386: integer (nullable = true)\n",
      " |-- 0387: integer (nullable = true)\n",
      " |-- 0388: integer (nullable = true)\n",
      " |-- 0389: integer (nullable = true)\n",
      " |-- 0390: integer (nullable = true)\n",
      " |-- 0391: integer (nullable = true)\n",
      " |-- 0392: integer (nullable = true)\n",
      " |-- 0393: integer (nullable = true)\n",
      " |-- 0394: integer (nullable = true)\n",
      " |-- 0395: integer (nullable = true)\n",
      " |-- 0396: integer (nullable = true)\n",
      " |-- 0397: integer (nullable = true)\n",
      " |-- 0398: integer (nullable = true)\n",
      " |-- 0399: integer (nullable = true)\n",
      " |-- 0400: integer (nullable = true)\n",
      " |-- 0401: integer (nullable = true)\n",
      " |-- 0402: integer (nullable = true)\n",
      " |-- 0403: integer (nullable = true)\n",
      " |-- 0404: integer (nullable = true)\n",
      " |-- 0405: integer (nullable = true)\n",
      " |-- 81406: integer (nullable = true)\n",
      " |-- 240: integer (nullable = true)\n",
      " |-- 253408: integer (nullable = true)\n",
      " |-- 253409: integer (nullable = true)\n",
      " |-- 119: integer (nullable = true)\n",
      " |-- 25: integer (nullable = true)\n",
      " |-- 0412: integer (nullable = true)\n",
      " |-- 0413: integer (nullable = true)\n",
      " |-- 0414: integer (nullable = true)\n",
      " |-- 0415: integer (nullable = true)\n",
      " |-- 0416: integer (nullable = true)\n",
      " |-- 0417: integer (nullable = true)\n",
      " |-- 0418: integer (nullable = true)\n",
      " |-- 0419: integer (nullable = true)\n",
      " |-- 0420: integer (nullable = true)\n",
      " |-- 0421: integer (nullable = true)\n",
      " |-- 0422: integer (nullable = true)\n",
      " |-- 0423: integer (nullable = true)\n",
      " |-- 0424: integer (nullable = true)\n",
      " |-- 0425: integer (nullable = true)\n",
      " |-- 0426: integer (nullable = true)\n",
      " |-- 0427: integer (nullable = true)\n",
      " |-- 0428: integer (nullable = true)\n",
      " |-- 0429: integer (nullable = true)\n",
      " |-- 0430: integer (nullable = true)\n",
      " |-- 0431: integer (nullable = true)\n",
      " |-- 0432: integer (nullable = true)\n",
      " |-- 0433: integer (nullable = true)\n",
      " |-- 0434: integer (nullable = true)\n",
      " |-- 45: integer (nullable = true)\n",
      " |-- 186: integer (nullable = true)\n",
      " |-- 253437: integer (nullable = true)\n",
      " |-- 253438: integer (nullable = true)\n",
      " |-- 150: integer (nullable = true)\n",
      " |-- 27: integer (nullable = true)\n",
      " |-- 0441: integer (nullable = true)\n",
      " |-- 0442: integer (nullable = true)\n",
      " |-- 0443: integer (nullable = true)\n",
      " |-- 0444: integer (nullable = true)\n",
      " |-- 0445: integer (nullable = true)\n",
      " |-- 0446: integer (nullable = true)\n",
      " |-- 0447: integer (nullable = true)\n",
      " |-- 0448: integer (nullable = true)\n",
      " |-- 0449: integer (nullable = true)\n",
      " |-- 0450: integer (nullable = true)\n",
      " |-- 0451: integer (nullable = true)\n",
      " |-- 0452: integer (nullable = true)\n",
      " |-- 0453: integer (nullable = true)\n",
      " |-- 0454: integer (nullable = true)\n",
      " |-- 0455: integer (nullable = true)\n",
      " |-- 0456: integer (nullable = true)\n",
      " |-- 0457: integer (nullable = true)\n",
      " |-- 0458: integer (nullable = true)\n",
      " |-- 0459: integer (nullable = true)\n",
      " |-- 0460: integer (nullable = true)\n",
      " |-- 0461: integer (nullable = true)\n",
      " |-- 0462: integer (nullable = true)\n",
      " |-- 0463: integer (nullable = true)\n",
      " |-- 16464: integer (nullable = true)\n",
      " |-- 93465: integer (nullable = true)\n",
      " |-- 252: integer (nullable = true)\n",
      " |-- 253467: integer (nullable = true)\n",
      " |-- 187: integer (nullable = true)\n",
      " |-- 0469: integer (nullable = true)\n",
      " |-- 0470: integer (nullable = true)\n",
      " |-- 0471: integer (nullable = true)\n",
      " |-- 0472: integer (nullable = true)\n",
      " |-- 0473: integer (nullable = true)\n",
      " |-- 0474: integer (nullable = true)\n",
      " |-- 0475: integer (nullable = true)\n",
      " |-- 0476: integer (nullable = true)\n",
      " |-- 0477: integer (nullable = true)\n",
      " |-- 0478: integer (nullable = true)\n",
      " |-- 0479: integer (nullable = true)\n",
      " |-- 0480: integer (nullable = true)\n",
      " |-- 0481: integer (nullable = true)\n",
      " |-- 0482: integer (nullable = true)\n",
      " |-- 0483: integer (nullable = true)\n",
      " |-- 0484: integer (nullable = true)\n",
      " |-- 0485: integer (nullable = true)\n",
      " |-- 0486: integer (nullable = true)\n",
      " |-- 0487: integer (nullable = true)\n",
      " |-- 0488: integer (nullable = true)\n",
      " |-- 0489: integer (nullable = true)\n",
      " |-- 0490: integer (nullable = true)\n",
      " |-- 0491: integer (nullable = true)\n",
      " |-- 0492: integer (nullable = true)\n",
      " |-- 0493: integer (nullable = true)\n",
      " |-- 249494: integer (nullable = true)\n",
      " |-- 253495: integer (nullable = true)\n",
      " |-- 249496: integer (nullable = true)\n",
      " |-- 64497: integer (nullable = true)\n",
      " |-- 0498: integer (nullable = true)\n",
      " |-- 0499: integer (nullable = true)\n",
      " |-- 0500: integer (nullable = true)\n",
      " |-- 0501: integer (nullable = true)\n",
      " |-- 0502: integer (nullable = true)\n",
      " |-- 0503: integer (nullable = true)\n",
      " |-- 0504: integer (nullable = true)\n",
      " |-- 0505: integer (nullable = true)\n",
      " |-- 0506: integer (nullable = true)\n",
      " |-- 0507: integer (nullable = true)\n",
      " |-- 0508: integer (nullable = true)\n",
      " |-- 0509: integer (nullable = true)\n",
      " |-- 0510: integer (nullable = true)\n",
      " |-- 0511: integer (nullable = true)\n",
      " |-- 0512: integer (nullable = true)\n",
      " |-- 0513: integer (nullable = true)\n",
      " |-- 0514: integer (nullable = true)\n",
      " |-- 0515: integer (nullable = true)\n",
      " |-- 0516: integer (nullable = true)\n",
      " |-- 0517: integer (nullable = true)\n",
      " |-- 0518: integer (nullable = true)\n",
      " |-- 46: integer (nullable = true)\n",
      " |-- 130: integer (nullable = true)\n",
      " |-- 183: integer (nullable = true)\n",
      " |-- 253522: integer (nullable = true)\n",
      " |-- 253523: integer (nullable = true)\n",
      " |-- 207: integer (nullable = true)\n",
      " |-- 2525: integer (nullable = true)\n",
      " |-- 0526: integer (nullable = true)\n",
      " |-- 0527: integer (nullable = true)\n",
      " |-- 0528: integer (nullable = true)\n",
      " |-- 0529: integer (nullable = true)\n",
      " |-- 0530: integer (nullable = true)\n",
      " |-- 0531: integer (nullable = true)\n",
      " |-- 0532: integer (nullable = true)\n",
      " |-- 0533: integer (nullable = true)\n",
      " |-- 0534: integer (nullable = true)\n",
      " |-- 0535: integer (nullable = true)\n",
      " |-- 0536: integer (nullable = true)\n",
      " |-- 0537: integer (nullable = true)\n",
      " |-- 0538: integer (nullable = true)\n",
      " |-- 0539: integer (nullable = true)\n",
      " |-- 0540: integer (nullable = true)\n",
      " |-- 0541: integer (nullable = true)\n",
      " |-- 0542: integer (nullable = true)\n",
      " |-- 0543: integer (nullable = true)\n",
      " |-- 0544: integer (nullable = true)\n",
      " |-- 39545: integer (nullable = true)\n",
      " |-- 148: integer (nullable = true)\n",
      " |-- 229: integer (nullable = true)\n",
      " |-- 253548: integer (nullable = true)\n",
      " |-- 253549: integer (nullable = true)\n",
      " |-- 253550: integer (nullable = true)\n",
      " |-- 250: integer (nullable = true)\n",
      " |-- 182552: integer (nullable = true)\n",
      " |-- 0553: integer (nullable = true)\n",
      " |-- 0554: integer (nullable = true)\n",
      " |-- 0555: integer (nullable = true)\n",
      " |-- 0556: integer (nullable = true)\n",
      " |-- 0557: integer (nullable = true)\n",
      " |-- 0558: integer (nullable = true)\n",
      " |-- 0559: integer (nullable = true)\n",
      " |-- 0560: integer (nullable = true)\n",
      " |-- 0561: integer (nullable = true)\n",
      " |-- 0562: integer (nullable = true)\n",
      " |-- 0563: integer (nullable = true)\n",
      " |-- 0564: integer (nullable = true)\n",
      " |-- 0565: integer (nullable = true)\n",
      " |-- 0566: integer (nullable = true)\n",
      " |-- 0567: integer (nullable = true)\n",
      " |-- 0568: integer (nullable = true)\n",
      " |-- 0569: integer (nullable = true)\n",
      " |-- 0570: integer (nullable = true)\n",
      " |-- 24: integer (nullable = true)\n",
      " |-- 114: integer (nullable = true)\n",
      " |-- 221: integer (nullable = true)\n",
      " |-- 253574: integer (nullable = true)\n",
      " |-- 253575: integer (nullable = true)\n",
      " |-- 253576: integer (nullable = true)\n",
      " |-- 253577: integer (nullable = true)\n",
      " |-- 201: integer (nullable = true)\n",
      " |-- 78: integer (nullable = true)\n",
      " |-- 0580: integer (nullable = true)\n",
      " |-- 0581: integer (nullable = true)\n",
      " |-- 0582: integer (nullable = true)\n",
      " |-- 0583: integer (nullable = true)\n",
      " |-- 0584: integer (nullable = true)\n",
      " |-- 0585: integer (nullable = true)\n",
      " |-- 0586: integer (nullable = true)\n",
      " |-- 0587: integer (nullable = true)\n",
      " |-- 0588: integer (nullable = true)\n",
      " |-- 0589: integer (nullable = true)\n",
      " |-- 0590: integer (nullable = true)\n",
      " |-- 0591: integer (nullable = true)\n",
      " |-- 0592: integer (nullable = true)\n",
      " |-- 0593: integer (nullable = true)\n",
      " |-- 0594: integer (nullable = true)\n",
      " |-- 0595: integer (nullable = true)\n",
      " |-- 0596: integer (nullable = true)\n",
      " |-- 23: integer (nullable = true)\n",
      " |-- 66: integer (nullable = true)\n",
      " |-- 213: integer (nullable = true)\n",
      " |-- 253600: integer (nullable = true)\n",
      " |-- 253601: integer (nullable = true)\n",
      " |-- 253602: integer (nullable = true)\n",
      " |-- 253603: integer (nullable = true)\n",
      " |-- 198604: integer (nullable = true)\n",
      " |-- 81605: integer (nullable = true)\n",
      " |-- 2606: integer (nullable = true)\n",
      " |-- 0607: integer (nullable = true)\n",
      " |-- 0608: integer (nullable = true)\n",
      " |-- 0609: integer (nullable = true)\n",
      " |-- 0610: integer (nullable = true)\n",
      " |-- 0611: integer (nullable = true)\n",
      " |-- 0612: integer (nullable = true)\n",
      " |-- 0613: integer (nullable = true)\n",
      " |-- 0614: integer (nullable = true)\n",
      " |-- 0615: integer (nullable = true)\n",
      " |-- 0616: integer (nullable = true)\n",
      " |-- 0617: integer (nullable = true)\n",
      " |-- 0618: integer (nullable = true)\n",
      " |-- 0619: integer (nullable = true)\n",
      " |-- 0620: integer (nullable = true)\n",
      " |-- 0621: integer (nullable = true)\n",
      " |-- 0622: integer (nullable = true)\n",
      " |-- 18623: integer (nullable = true)\n",
      " |-- 171: integer (nullable = true)\n",
      " |-- 219625: integer (nullable = true)\n",
      " |-- 253626: integer (nullable = true)\n",
      " |-- 253627: integer (nullable = true)\n",
      " |-- 253628: integer (nullable = true)\n",
      " |-- 253629: integer (nullable = true)\n",
      " |-- 195630: integer (nullable = true)\n",
      " |-- 80631: integer (nullable = true)\n",
      " |-- 9: integer (nullable = true)\n",
      " |-- 0633: integer (nullable = true)\n",
      " |-- 0634: integer (nullable = true)\n",
      " |-- 0635: integer (nullable = true)\n",
      " |-- 0636: integer (nullable = true)\n",
      " |-- 0637: integer (nullable = true)\n",
      " |-- 0638: integer (nullable = true)\n",
      " |-- 0639: integer (nullable = true)\n",
      " |-- 0640: integer (nullable = true)\n",
      " |-- 0641: integer (nullable = true)\n",
      " |-- 0642: integer (nullable = true)\n",
      " |-- 0643: integer (nullable = true)\n",
      " |-- 0644: integer (nullable = true)\n",
      " |-- 0645: integer (nullable = true)\n",
      " |-- 0646: integer (nullable = true)\n",
      " |-- 0647: integer (nullable = true)\n",
      " |-- 0648: integer (nullable = true)\n",
      " |-- 55: integer (nullable = true)\n",
      " |-- 172650: integer (nullable = true)\n",
      " |-- 226: integer (nullable = true)\n",
      " |-- 253652: integer (nullable = true)\n",
      " |-- 253653: integer (nullable = true)\n",
      " |-- 253654: integer (nullable = true)\n",
      " |-- 253655: integer (nullable = true)\n",
      " |-- 244: integer (nullable = true)\n",
      " |-- 133: integer (nullable = true)\n",
      " |-- 11658: integer (nullable = true)\n",
      " |-- 0659: integer (nullable = true)\n",
      " |-- 0660: integer (nullable = true)\n",
      " |-- 0661: integer (nullable = true)\n",
      " |-- 0662: integer (nullable = true)\n",
      " |-- 0663: integer (nullable = true)\n",
      " |-- 0664: integer (nullable = true)\n",
      " |-- 0665: integer (nullable = true)\n",
      " |-- 0666: integer (nullable = true)\n",
      " |-- 0667: integer (nullable = true)\n",
      " |-- 0668: integer (nullable = true)\n",
      " |-- 0669: integer (nullable = true)\n",
      " |-- 0670: integer (nullable = true)\n",
      " |-- 0671: integer (nullable = true)\n",
      " |-- 0672: integer (nullable = true)\n",
      " |-- 0673: integer (nullable = true)\n",
      " |-- 0674: integer (nullable = true)\n",
      " |-- 0675: integer (nullable = true)\n",
      " |-- 0676: integer (nullable = true)\n",
      " |-- 136677: integer (nullable = true)\n",
      " |-- 253678: integer (nullable = true)\n",
      " |-- 253679: integer (nullable = true)\n",
      " |-- 253680: integer (nullable = true)\n",
      " |-- 212: integer (nullable = true)\n",
      " |-- 135: integer (nullable = true)\n",
      " |-- 132: integer (nullable = true)\n",
      " |-- 16684: integer (nullable = true)\n",
      " |-- 0685: integer (nullable = true)\n",
      " |-- 0686: integer (nullable = true)\n",
      " |-- 0687: integer (nullable = true)\n",
      " |-- 0688: integer (nullable = true)\n",
      " |-- 0689: integer (nullable = true)\n",
      " |-- 0690: integer (nullable = true)\n",
      " |-- 0691: integer (nullable = true)\n",
      " |-- 0692: integer (nullable = true)\n",
      " |-- 0693: integer (nullable = true)\n",
      " |-- 0694: integer (nullable = true)\n",
      " |-- 0695: integer (nullable = true)\n",
      " |-- 0696: integer (nullable = true)\n",
      " |-- 0697: integer (nullable = true)\n",
      " |-- 0698: integer (nullable = true)\n",
      " |-- 0699: integer (nullable = true)\n",
      " |-- 0700: integer (nullable = true)\n",
      " |-- 0701: integer (nullable = true)\n",
      " |-- 0702: integer (nullable = true)\n",
      " |-- 0703: integer (nullable = true)\n",
      " |-- 0704: integer (nullable = true)\n",
      " |-- 0705: integer (nullable = true)\n",
      " |-- 0706: integer (nullable = true)\n",
      " |-- 0707: integer (nullable = true)\n",
      " |-- 0708: integer (nullable = true)\n",
      " |-- 0709: integer (nullable = true)\n",
      " |-- 0710: integer (nullable = true)\n",
      " |-- 0711: integer (nullable = true)\n",
      " |-- 0712: integer (nullable = true)\n",
      " |-- 0713: integer (nullable = true)\n",
      " |-- 0714: integer (nullable = true)\n",
      " |-- 0715: integer (nullable = true)\n",
      " |-- 0716: integer (nullable = true)\n",
      " |-- 0717: integer (nullable = true)\n",
      " |-- 0718: integer (nullable = true)\n",
      " |-- 0719: integer (nullable = true)\n",
      " |-- 0720: integer (nullable = true)\n",
      " |-- 0721: integer (nullable = true)\n",
      " |-- 0722: integer (nullable = true)\n",
      " |-- 0723: integer (nullable = true)\n",
      " |-- 0724: integer (nullable = true)\n",
      " |-- 0725: integer (nullable = true)\n",
      " |-- 0726: integer (nullable = true)\n",
      " |-- 0727: integer (nullable = true)\n",
      " |-- 0728: integer (nullable = true)\n",
      " |-- 0729: integer (nullable = true)\n",
      " |-- 0730: integer (nullable = true)\n",
      " |-- 0731: integer (nullable = true)\n",
      " |-- 0732: integer (nullable = true)\n",
      " |-- 0733: integer (nullable = true)\n",
      " |-- 0734: integer (nullable = true)\n",
      " |-- 0735: integer (nullable = true)\n",
      " |-- 0736: integer (nullable = true)\n",
      " |-- 0737: integer (nullable = true)\n",
      " |-- 0738: integer (nullable = true)\n",
      " |-- 0739: integer (nullable = true)\n",
      " |-- 0740: integer (nullable = true)\n",
      " |-- 0741: integer (nullable = true)\n",
      " |-- 0742: integer (nullable = true)\n",
      " |-- 0743: integer (nullable = true)\n",
      " |-- 0744: integer (nullable = true)\n",
      " |-- 0745: integer (nullable = true)\n",
      " |-- 0746: integer (nullable = true)\n",
      " |-- 0747: integer (nullable = true)\n",
      " |-- 0748: integer (nullable = true)\n",
      " |-- 0749: integer (nullable = true)\n",
      " |-- 0750: integer (nullable = true)\n",
      " |-- 0751: integer (nullable = true)\n",
      " |-- 0752: integer (nullable = true)\n",
      " |-- 0753: integer (nullable = true)\n",
      " |-- 0754: integer (nullable = true)\n",
      " |-- 0755: integer (nullable = true)\n",
      " |-- 0756: integer (nullable = true)\n",
      " |-- 0757: integer (nullable = true)\n",
      " |-- 0758: integer (nullable = true)\n",
      " |-- 0759: integer (nullable = true)\n",
      " |-- 0760: integer (nullable = true)\n",
      " |-- 0761: integer (nullable = true)\n",
      " |-- 0762: integer (nullable = true)\n",
      " |-- 0763: integer (nullable = true)\n",
      " |-- 0764: integer (nullable = true)\n",
      " |-- 0765: integer (nullable = true)\n",
      " |-- 0766: integer (nullable = true)\n",
      " |-- 0767: integer (nullable = true)\n",
      " |-- 0768: integer (nullable = true)\n",
      " |-- 0769: integer (nullable = true)\n",
      " |-- 0770: integer (nullable = true)\n",
      " |-- 0771: integer (nullable = true)\n",
      " |-- 0772: integer (nullable = true)\n",
      " |-- 0773: integer (nullable = true)\n",
      " |-- 0774: integer (nullable = true)\n",
      " |-- 0775: integer (nullable = true)\n",
      " |-- 0776: integer (nullable = true)\n",
      " |-- 0777: integer (nullable = true)\n",
      " |-- 0778: integer (nullable = true)\n",
      " |-- 0779: integer (nullable = true)\n",
      " |-- 0780: integer (nullable = true)\n",
      " |-- 0781: integer (nullable = true)\n",
      " |-- 0782: integer (nullable = true)\n",
      " |-- 0783: integer (nullable = true)\n",
      " |-- 0784: integer (nullable = true)\n",
      "\n"
     ]
    }
   ],
   "source": [
    "raw_dataset_train.printSchema()"
   ]
  },
  {
   "cell_type": "code",
   "execution_count": 7,
   "metadata": {
    "collapsed": false
   },
   "outputs": [
    {
     "ename": "ValueError",
     "evalue": "list.remove(x): x not in list",
     "output_type": "error",
     "traceback": [
      "\u001b[0;31m\u001b[0m",
      "\u001b[0;31mValueError\u001b[0mTraceback (most recent call last)",
      "\u001b[0;32m<ipython-input-7-ccf2e0dfe0a6>\u001b[0m in \u001b[0;36m<module>\u001b[0;34m()\u001b[0m\n\u001b[1;32m      3\u001b[0m \u001b[0;31m# This is identical for the test set.\u001b[0m\u001b[0;34m\u001b[0m\u001b[0;34m\u001b[0m\u001b[0m\n\u001b[1;32m      4\u001b[0m \u001b[0mfeatures\u001b[0m \u001b[0;34m=\u001b[0m \u001b[0mraw_dataset_train\u001b[0m\u001b[0;34m.\u001b[0m\u001b[0mcolumns\u001b[0m\u001b[0;34m\u001b[0m\u001b[0m\n\u001b[0;32m----> 5\u001b[0;31m \u001b[0mfeatures\u001b[0m\u001b[0;34m.\u001b[0m\u001b[0mremove\u001b[0m\u001b[0;34m(\u001b[0m\u001b[0;34m'label'\u001b[0m\u001b[0;34m)\u001b[0m\u001b[0;34m\u001b[0m\u001b[0m\n\u001b[0m",
      "\u001b[0;31mValueError\u001b[0m: list.remove(x): x not in list"
     ]
    }
   ],
   "source": [
    "# First, we would like to extract the desired features from the raw dataset.\n",
    "# We do this by constructing a list with all desired columns.\n",
    "# This is identical for the test set.\n",
    "features = raw_dataset_train.columns\n",
    "features.remove('label')"
   ]
  },
  {
   "cell_type": "markdown",
   "metadata": {},
   "source": [
    "Once we have a list of columns names, we can pass this to Spark's [VectorAssembler](http://spark.apache.org/docs/latest/ml-features.html#vectorassembler). This VectorAssembler will take a list of features, vectorize them, and place them in a column defined in `outputCol`."
   ]
  },
  {
   "cell_type": "code",
   "execution_count": null,
   "metadata": {
    "collapsed": false
   },
   "outputs": [],
   "source": [
    "# Next, we use Spark's VectorAssembler to \"assemble\" (create) a vector of all desired features.\n",
    "# http://spark.apache.org/docs/latest/ml-features.html#vectorassembler\n",
    "vector_assembler = VectorAssembler(inputCols=features, outputCol=\"features\")\n",
    "# This transformer will take all columns specified in features, and create an additional column \"features\" which will contain all the desired features aggregated into a single vector.\n",
    "dataset_train = vector_assembler.transform(raw_dataset_train)\n",
    "dataset_test = vector_assembler.transform(raw_dataset_test)"
   ]
  },
  {
   "cell_type": "markdown",
   "metadata": {},
   "source": [
    "Once we have the inputs for our Neural Network (features column) after applying the VectorAssembler, we should also define the outputs. Since we are dealing with a classification task, the output of our Neural Network should be a one-hot encoded vector with 10 elements. For this, we provide a `OneHotTransformer` which accomplish this exact task."
   ]
  },
  {
   "cell_type": "code",
   "execution_count": null,
   "metadata": {
    "collapsed": false
   },
   "outputs": [],
   "source": [
    "# Define the number of output classes.\n",
    "nb_classes = 10\n",
    "encoder = OneHotTransformer(nb_classes, input_col=\"label\", output_col=\"label_encoded\")\n",
    "dataset_train = encoder.transform(dataset_train)\n",
    "dataset_test = encoder.transform(dataset_test)"
   ]
  },
  {
   "cell_type": "markdown",
   "metadata": {},
   "source": [
    "## MNIST\n",
    "\n",
    "[MNIST](http://yann.lecun.com/exdb/mnist/) is a dataset of handwritten digits. Every image is a 28 by 28 pixel grayscale image. This means that every pixel has a value between 0 and 255. Some examples of instances within this dataset are shown in the cells below."
   ]
  },
  {
   "cell_type": "code",
   "execution_count": null,
   "metadata": {
    "collapsed": true
   },
   "outputs": [],
   "source": [
    "def show_instances(column):\n",
    "    global dataset\n",
    "\n",
    "    num_instances = 6 # Number of instances you would like to draw.\n",
    "    x_dimension   = 3 # Number of images to draw on the x-axis.\n",
    "    y_dimension   = 2 # Number of images to draw on the y-axis.\n",
    "\n",
    "    # Fetch 3 different instance from the dataset.\n",
    "    instances = dataset_train.select(column).take(num_instances)\n",
    "    # Process the instances.\n",
    "    for i in range(0, num_instances):\n",
    "        instance = instances[i]\n",
    "        instance = instance[column].toArray().reshape((28, 28))\n",
    "        instances[i] = instance\n",
    "\n",
    "    # Draw the sampled instances.\n",
    "    fig, axn = plt.subplots(y_dimension, x_dimension, sharex=True, sharey=True)\n",
    "    num_axn = len(axn.flat)\n",
    "    for i in range(0, num_axn):\n",
    "        ax = axn.flat[i]\n",
    "        h = sns.heatmap(instances[i], ax=ax)\n",
    "        h.set_yticks([])\n",
    "        h.set_xticks([])"
   ]
  },
  {
   "cell_type": "code",
   "execution_count": null,
   "metadata": {
    "collapsed": false
   },
   "outputs": [],
   "source": [
    "show_instances(\"features\")"
   ]
  },
  {
   "cell_type": "markdown",
   "metadata": {},
   "source": [
    "## Normalization\n",
    "\n",
    "In this Section, we will normalize the feature vectors between the 0 and 1 range."
   ]
  },
  {
   "cell_type": "code",
   "execution_count": null,
   "metadata": {
    "collapsed": false
   },
   "outputs": [],
   "source": [
    "# Clear the dataset in the case you ran this cell before.\n",
    "dataset_train = dataset_train.select(\"features\", \"label\", \"label_encoded\")\n",
    "dataset_test = dataset_test.select(\"features\", \"label\", \"label_encoded\")\n",
    "# Allocate a MinMaxTransformer using Distributed Keras.\n",
    "# o_min -> original_minimum\n",
    "# n_min -> new_minimum\n",
    "transformer = MinMaxTransformer(n_min=0.0, n_max=1.0, \\\n",
    "                                o_min=0.0, o_max=250.0, \\\n",
    "                                input_col=\"features\", \\\n",
    "                                output_col=\"features_normalized\")\n",
    "# Transform the dataset.\n",
    "dataset_train = transformer.transform(dataset_train)\n",
    "dataset_test = transformer.transform(dataset_test)"
   ]
  },
  {
   "cell_type": "code",
   "execution_count": null,
   "metadata": {
    "collapsed": false
   },
   "outputs": [],
   "source": [
    "show_instances(\"features_normalized\")"
   ]
  },
  {
   "cell_type": "markdown",
   "metadata": {},
   "source": [
    "## Convolutions\n",
    "\n",
    "In order to make the dense vectors compatible with convolution operations in Keras, we add another column which contains the matrix form of these images. We provide a utility class (MatrixTransformer), which helps you with this."
   ]
  },
  {
   "cell_type": "code",
   "execution_count": null,
   "metadata": {
    "collapsed": false
   },
   "outputs": [],
   "source": [
    "reshape_transformer = ReshapeTransformer(\"features_normalized\", \"matrix\", (28, 28, 1))\n",
    "dataset_train = reshape_transformer.transform(dataset_train)\n",
    "dataset_test = reshape_transformer.transform(dataset_test)"
   ]
  },
  {
   "cell_type": "markdown",
   "metadata": {},
   "source": [
    "## Model Development"
   ]
  },
  {
   "cell_type": "markdown",
   "metadata": {},
   "source": [
    "### Multilayer Perceptron"
   ]
  },
  {
   "cell_type": "code",
   "execution_count": null,
   "metadata": {
    "collapsed": false
   },
   "outputs": [],
   "source": [
    "mlp = Sequential()\n",
    "mlp.add(Dense(1000, input_shape=(784,)))\n",
    "mlp.add(Activation('relu'))\n",
    "mlp.add(Dense(250))\n",
    "mlp.add(Activation('relu'))\n",
    "mlp.add(Dense(10))\n",
    "mlp.add(Activation('softmax'))"
   ]
  },
  {
   "cell_type": "code",
   "execution_count": null,
   "metadata": {
    "collapsed": false
   },
   "outputs": [],
   "source": [
    "mlp.summary()"
   ]
  },
  {
   "cell_type": "code",
   "execution_count": null,
   "metadata": {
    "collapsed": true
   },
   "outputs": [],
   "source": [
    "optimizer_mlp = 'adam'\n",
    "loss_mlp = 'categorical_crossentropy'"
   ]
  },
  {
   "cell_type": "markdown",
   "metadata": {},
   "source": [
    "### Convolutional network"
   ]
  },
  {
   "cell_type": "code",
   "execution_count": null,
   "metadata": {
    "collapsed": false
   },
   "outputs": [],
   "source": [
    "# Taken from Keras MNIST example.\n",
    "\n",
    "# Declare model parameters.\n",
    "img_rows, img_cols = 28, 28\n",
    "# number of convolutional filters to use\n",
    "nb_filters = 32\n",
    "# size of pooling area for max pooling\n",
    "pool_size = (2, 2)\n",
    "# convolution kernel size\n",
    "kernel_size = (3, 3)\n",
    "input_shape = (img_rows, img_cols, 1)\n",
    "\n",
    "# Construct the model.\n",
    "convnet = Sequential()\n",
    "convnet.add(Convolution2D(nb_filters, kernel_size[0], kernel_size[1],\n",
    "                          border_mode='valid',\n",
    "                          input_shape=input_shape))\n",
    "convnet.add(Activation('relu'))\n",
    "convnet.add(Convolution2D(nb_filters, kernel_size[0], kernel_size[1]))\n",
    "convnet.add(Activation('relu'))\n",
    "convnet.add(MaxPooling2D(pool_size=pool_size))\n",
    "\n",
    "convnet.add(Flatten())\n",
    "convnet.add(Dense(225))\n",
    "convnet.add(Activation('relu'))\n",
    "convnet.add(Dense(nb_classes))\n",
    "convnet.add(Activation('softmax'))"
   ]
  },
  {
   "cell_type": "code",
   "execution_count": null,
   "metadata": {
    "collapsed": false
   },
   "outputs": [],
   "source": [
    "convnet.summary()"
   ]
  },
  {
   "cell_type": "code",
   "execution_count": null,
   "metadata": {
    "collapsed": true
   },
   "outputs": [],
   "source": [
    "optimizer_convnet = 'adam'\n",
    "loss_convnet = 'categorical_crossentropy'"
   ]
  },
  {
   "cell_type": "markdown",
   "metadata": {},
   "source": [
    "## Evaluation\n",
    "\n",
    "We define a utility function which will compute the accuracy for us."
   ]
  },
  {
   "cell_type": "code",
   "execution_count": null,
   "metadata": {
    "collapsed": true
   },
   "outputs": [],
   "source": [
    "def evaluate_accuracy(model, test_set, features=\"features_normalized_dense\"):\n",
    "    evaluator = AccuracyEvaluator(prediction_col=\"prediction_index\", label_col=\"label\")\n",
    "    predictor = ModelPredictor(keras_model=model, features_col=features)\n",
    "    transformer = LabelIndexTransformer(output_dim=nb_classes)\n",
    "    test_set = test_set.select(features, \"label\")\n",
    "    test_set = predictor.predict(test_set)\n",
    "    test_set = transformer.transform(test_set)\n",
    "    score = evaluator.evaluate(test_set)\n",
    "    \n",
    "    return score"
   ]
  },
  {
   "cell_type": "markdown",
   "metadata": {},
   "source": [
    "## Training"
   ]
  },
  {
   "cell_type": "code",
   "execution_count": null,
   "metadata": {
    "collapsed": false
   },
   "outputs": [],
   "source": [
    "dataset_train.printSchema()"
   ]
  },
  {
   "cell_type": "code",
   "execution_count": null,
   "metadata": {
    "collapsed": true
   },
   "outputs": [],
   "source": [
    "dataset_train = dataset_train.select(\"features_normalized\", \"matrix\",\"label\", \"label_encoded\")\n",
    "dataset_test = dataset_test.select(\"features_normalized\", \"matrix\",\"label\", \"label_encoded\")"
   ]
  },
  {
   "cell_type": "code",
   "execution_count": null,
   "metadata": {
    "collapsed": false
   },
   "outputs": [],
   "source": [
    "dense_transformer = DenseTransformer(input_col=\"features_normalized\", output_col=\"features_normalized_dense\")\n",
    "dataset_train = dense_transformer.transform(dataset_train)\n",
    "dataset_test = dense_transformer.transform(dataset_test)\n",
    "dataset_train.repartition(num_workers)\n",
    "dataset_test.repartition(num_workers)"
   ]
  },
  {
   "cell_type": "code",
   "execution_count": null,
   "metadata": {
    "collapsed": false
   },
   "outputs": [],
   "source": [
    "# Assing the training and test set.\n",
    "training_set = dataset_train.repartition(num_workers)\n",
    "test_set = dataset_test.repartition(num_workers)\n",
    "# Cache them.\n",
    "training_set.cache()\n",
    "test_set.cache()"
   ]
  },
  {
   "cell_type": "code",
   "execution_count": null,
   "metadata": {
    "collapsed": false
   },
   "outputs": [],
   "source": [
    "print(training_set.count())"
   ]
  },
  {
   "cell_type": "markdown",
   "metadata": {},
   "source": [
    "### DOWNPOUR (Multilayer Perceptron)"
   ]
  },
  {
   "cell_type": "code",
   "execution_count": null,
   "metadata": {
    "collapsed": false
   },
   "outputs": [],
   "source": [
    "trainer = DOWNPOUR(keras_model=mlp, worker_optimizer=optimizer_mlp, loss=loss_mlp, num_workers=num_workers,\n",
    "                   batch_size=4, communication_window=5, num_epoch=1,\n",
    "                   features_col=\"features_normalized_dense\", label_col=\"label_encoded\")\n",
    "trained_model = trainer.train(training_set)"
   ]
  },
  {
   "cell_type": "code",
   "execution_count": null,
   "metadata": {
    "collapsed": false
   },
   "outputs": [],
   "source": [
    "print(\"Training time: \" + str(trainer.get_training_time()))\n",
    "print(\"Accuracy: \" + str(evaluate_accuracy(trained_model, test_set)))"
   ]
  },
  {
   "cell_type": "code",
   "execution_count": null,
   "metadata": {
    "collapsed": false
   },
   "outputs": [],
   "source": [
    "trainer.parameter_server.num_updates"
   ]
  },
  {
   "cell_type": "markdown",
   "metadata": {},
   "source": [
    "### ADAG (MultiLayer Perceptron)"
   ]
  },
  {
   "cell_type": "code",
   "execution_count": null,
   "metadata": {
    "collapsed": false
   },
   "outputs": [],
   "source": [
    "trainer = ADAG(keras_model=mlp, worker_optimizer=optimizer_mlp, loss=loss_mlp, num_workers=num_workers,\n",
    "               batch_size=4, communication_window=15, num_epoch=1,\n",
    "               features_col=\"features_normalized_dense\", label_col=\"label_encoded\")\n",
    "trained_model = trainer.train(training_set)"
   ]
  },
  {
   "cell_type": "code",
   "execution_count": null,
   "metadata": {
    "collapsed": false
   },
   "outputs": [],
   "source": [
    "print(\"Training time: \" + str(trainer.get_training_time()))\n",
    "print(\"Accuracy: \" + str(evaluate_accuracy(trained_model, test_set)))"
   ]
  },
  {
   "cell_type": "code",
   "execution_count": null,
   "metadata": {
    "collapsed": false,
    "scrolled": true
   },
   "outputs": [],
   "source": [
    "trainer.parameter_server.num_updates"
   ]
  },
  {
   "cell_type": "markdown",
   "metadata": {},
   "source": [
    "### EASGD (MultiLayer Perceptron)"
   ]
  },
  {
   "cell_type": "code",
   "execution_count": null,
   "metadata": {
    "collapsed": true
   },
   "outputs": [],
   "source": [
    "trainer = AEASGD(keras_model=mlp, worker_optimizer=optimizer_mlp, loss=loss_mlp, num_workers=num_workers,\n",
    "                 batch_size=4, communication_window=35, num_epoch=1, features_col=\"features_normalized_dense\",\n",
    "                 label_col=\"label_encoded\")\n",
    "trained_model = trainer.train(training_set)"
   ]
  },
  {
   "cell_type": "code",
   "execution_count": null,
   "metadata": {
    "collapsed": false
   },
   "outputs": [],
   "source": [
    "print(\"Training time: \" + str(trainer.get_training_time()))\n",
    "print(\"Accuracy: \" + str(evaluate_accuracy(trained_model, test_set)))"
   ]
  },
  {
   "cell_type": "code",
   "execution_count": null,
   "metadata": {
    "collapsed": false
   },
   "outputs": [],
   "source": [
    "trainer.parameter_server.num_updates"
   ]
  },
  {
   "cell_type": "markdown",
   "metadata": {},
   "source": [
    "### DOWNPOUR (Convolutional network)"
   ]
  },
  {
   "cell_type": "code",
   "execution_count": null,
   "metadata": {
    "collapsed": false
   },
   "outputs": [],
   "source": [
    "trainer = DOWNPOUR(keras_model=convnet, worker_optimizer=optimizer_convnet, loss=loss_convnet,\n",
    "                   num_workers=num_workers, batch_size=4, communication_window=5,\n",
    "                   num_epoch=1, features_col=\"matrix\", label_col=\"label_encoded\")\n",
    "trainer.set_parallelism_factor(1)\n",
    "trained_model = trainer.train(training_set)"
   ]
  },
  {
   "cell_type": "code",
   "execution_count": null,
   "metadata": {
    "collapsed": false
   },
   "outputs": [],
   "source": [
    "print(\"Training time: \" + str(trainer.get_training_time()))\n",
    "print(\"Accuracy: \" + str(evaluate_accuracy(trained_model, test_set, \"matrix\")))"
   ]
  },
  {
   "cell_type": "code",
   "execution_count": null,
   "metadata": {
    "collapsed": false
   },
   "outputs": [],
   "source": [
    "trainer.parameter_server.num_updates"
   ]
  },
  {
   "cell_type": "markdown",
   "metadata": {},
   "source": [
    "### ADAG (Convolutional network)"
   ]
  },
  {
   "cell_type": "code",
   "execution_count": null,
   "metadata": {
    "collapsed": false
   },
   "outputs": [],
   "source": [
    "trainer = ADAG(keras_model=convnet, worker_optimizer=optimizer_convnet, loss=loss_convnet,\n",
    "               num_workers=num_workers, batch_size=15, communication_window=5, num_epoch=1,\n",
    "               features_col=\"matrix\", label_col=\"label_encoded\")\n",
    "trainer.set_parallelism_factor(1)\n",
    "trained_model = trainer.train(training_set)"
   ]
  },
  {
   "cell_type": "code",
   "execution_count": null,
   "metadata": {
    "collapsed": false
   },
   "outputs": [],
   "source": [
    "print(\"Training time: \" + str(trainer.get_training_time()))\n",
    "print(\"Accuracy: \" + str(evaluate_accuracy(trained_model, test_set, \"matrix\")))"
   ]
  },
  {
   "cell_type": "code",
   "execution_count": null,
   "metadata": {
    "collapsed": false,
    "scrolled": true
   },
   "outputs": [],
   "source": [
    "trainer.parameter_server.num_updates"
   ]
  },
  {
   "cell_type": "markdown",
   "metadata": {},
   "source": [
    "### EASGD (Convolutional network)"
   ]
  },
  {
   "cell_type": "code",
   "execution_count": null,
   "metadata": {
    "collapsed": false
   },
   "outputs": [],
   "source": [
    "trainer = AEASGD(keras_model=convnet, worker_optimizer=optimizer_convnet, loss=loss_convnet, \n",
    "                 num_workers=num_workers, batch_size=35, communication_window=32, num_epoch=1,\n",
    "                 features_col=\"matrix\", label_col=\"label_encoded\")\n",
    "trained_model = trainer.train(training_set)"
   ]
  },
  {
   "cell_type": "code",
   "execution_count": null,
   "metadata": {
    "collapsed": false
   },
   "outputs": [],
   "source": [
    "print(\"Training time: \" + str(trainer.get_training_time()))\n",
    "print(\"Accuracy: \" + str(evaluate_accuracy(trained_model, test_set, \"matrix\")))"
   ]
  },
  {
   "cell_type": "code",
   "execution_count": null,
   "metadata": {
    "collapsed": false
   },
   "outputs": [],
   "source": [
    "trainer.parameter_server.num_updates"
   ]
  }
 ],
 "metadata": {
  "anaconda-cloud": {},
  "kernelspec": {
   "display_name": "Python 2",
   "language": "python",
   "name": "python2"
  },
  "language_info": {
   "codemirror_mode": {
    "name": "ipython",
    "version": 2
   },
   "file_extension": ".py",
   "mimetype": "text/x-python",
   "name": "python",
   "nbconvert_exporter": "python",
   "pygments_lexer": "ipython2",
   "version": "2.7.13"
  }
 },
 "nbformat": 4,
 "nbformat_minor": 0
}
