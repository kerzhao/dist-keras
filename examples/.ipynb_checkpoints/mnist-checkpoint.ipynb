{
 "cells": [
  {
   "cell_type": "markdown",
   "metadata": {},
   "source": [
    "# MNIST using Distributed Keras\n",
    "\n",
    "**Joeri Hermans** (Technical Student, IT-DB-SAS, CERN)             \n",
    "*Departement of Knowledge Engineering*         \n",
    "*Maastricht University, The Netherlands*"
   ]
  },
  {
   "cell_type": "code",
   "execution_count": null,
   "metadata": {
    "collapsed": false
   },
   "outputs": [],
   "source": [
    "!(date +%d\\ %B\\ %G)"
   ]
  },
  {
   "cell_type": "markdown",
   "metadata": {},
   "source": [
    "In this notebook we will show you how to process the [MNIST](http://yann.lecun.com/exdb/mnist/) dataset using Distributed Keras. As in the [workflow](https://github.com/JoeriHermans/dist-keras/blob/master/examples/workflow.ipynb) notebook, we will guide you through the complete machine learning pipeline.\n",
    "\n",
    "## Preparation\n",
    "\n",
    "To get started, we first load all the required imports. Please make sure you installed `dist-keras`, and `seaborn`. Furthermore, we assume that you have access to an installation which provides Apache Spark.\n",
    "\n",
    "Before you start this notebook, place the MNIST dataset (which is provided in this repository) on HDFS. Or in the case HDFS is not available, place it on the local filesystem. But make sure the path to the file is identical for all computing nodes."
   ]
  },
  {
   "cell_type": "code",
   "execution_count": 1,
   "metadata": {
    "collapsed": false
   },
   "outputs": [
    {
     "name": "stderr",
     "output_type": "stream",
     "text": [
      "Using TensorFlow backend.\n"
     ]
    }
   ],
   "source": [
    "%matplotlib inline\n",
    "\n",
    "import numpy as np\n",
    "\n",
    "import seaborn as sns\n",
    "\n",
    "from keras.optimizers import *\n",
    "from keras.models import Sequential\n",
    "from keras.layers.core import *\n",
    "from keras.layers.convolutional import *\n",
    "\n",
    "from pyspark import SparkContext\n",
    "from pyspark import SparkConf\n",
    "\n",
    "from matplotlib import pyplot as plt\n",
    "import matplotlib.patches as mpatches\n",
    "\n",
    "from pyspark.ml.feature import StandardScaler\n",
    "from pyspark.ml.feature import VectorAssembler\n",
    "from pyspark.ml.feature import OneHotEncoder\n",
    "from pyspark.ml.feature import MinMaxScaler\n",
    "from pyspark.ml.feature import StringIndexer\n",
    "from pyspark.ml.evaluation import MulticlassClassificationEvaluator\n",
    "\n",
    "from distkeras.trainers import *\n",
    "from distkeras.predictors import *\n",
    "from distkeras.transformers import *\n",
    "from distkeras.evaluators import *\n",
    "from distkeras.utils import *"
   ]
  },
  {
   "cell_type": "markdown",
   "metadata": {},
   "source": [
    "In the following cell, adapt the parameters to fit your personal requirements."
   ]
  },
  {
   "cell_type": "code",
   "execution_count": 2,
   "metadata": {
    "collapsed": true
   },
   "outputs": [],
   "source": [
    "# Modify these variables according to your needs.\n",
    "application_name = \"Distributed Keras MNIST Notebook\"\n",
    "using_spark_2 = False\n",
    "local = False\n",
    "path_train = \"data/mnist_train.csv\"\n",
    "path_test = \"data/mnist_test.csv\"\n",
    "if local:\n",
    "    # Tell master to use local resources.\n",
    "    master = \"local[*]\"\n",
    "    num_processes = 3\n",
    "    num_executors = 1\n",
    "else:\n",
    "    # Tell master to use YARN.\n",
    "    master = \"yarn-client\"\n",
    "    num_executors = 20\n",
    "    num_processes = 1"
   ]
  },
  {
   "cell_type": "code",
   "execution_count": 3,
   "metadata": {
    "collapsed": false
   },
   "outputs": [
    {
     "name": "stdout",
     "output_type": "stream",
     "text": [
      "Number of desired executors: 20\n",
      "Number of desired processes / executor: 1\n",
      "Total number of workers: 20\n"
     ]
    }
   ],
   "source": [
    "# This variable is derived from the number of cores and executors, and will be used to assign the number of model trainers.\n",
    "num_workers = num_executors * num_processes\n",
    "\n",
    "print(\"Number of desired executors: \" + `num_executors`)\n",
    "print(\"Number of desired processes / executor: \" + `num_processes`)\n",
    "print(\"Total number of workers: \" + `num_workers`)"
   ]
  },
  {
   "cell_type": "code",
   "execution_count": 4,
   "metadata": {
    "collapsed": true
   },
   "outputs": [],
   "source": [
    "import os\n",
    "\n",
    "# Use the DataBricks CSV reader, this has some nice functionality regarding invalid values.\n",
    "os.environ['PYSPARK_SUBMIT_ARGS'] = '--packages com.databricks:spark-csv_2.10:1.4.0 pyspark-shell'"
   ]
  },
  {
   "cell_type": "code",
   "execution_count": 5,
   "metadata": {
    "collapsed": false
   },
   "outputs": [],
   "source": [
    "conf = SparkConf()\n",
    "conf.set(\"spark.app.name\", application_name)\n",
    "conf.set(\"spark.master\", master)\n",
    "conf.set(\"spark.executor.cores\", `num_processes`)\n",
    "conf.set(\"spark.executor.instances\", `num_executors`)\n",
    "conf.set(\"spark.executor.memory\", \"4g\")\n",
    "conf.set(\"spark.locality.wait\", \"0\")\n",
    "conf.set(\"spark.serializer\", \"org.apache.spark.serializer.KryoSerializer\");\n",
    "\n",
    "# Check if the user is running Spark 2.0 +\n",
    "if using_spark_2:\n",
    "    sc = SparkSession.builder.config(conf=conf) \\\n",
    "            .appName(application_name) \\\n",
    "            .getOrCreate()\n",
    "else:\n",
    "    # Create the Spark context.\n",
    "    #sc = SparkContext(conf=conf)\n",
    "    sc.conf = conf\n",
    "    # Add the missing imports\n",
    "    from pyspark import SQLContext\n",
    "    sqlContext = SQLContext(sc)"
   ]
  },
  {
   "cell_type": "code",
   "execution_count": 6,
   "metadata": {
    "collapsed": false
   },
   "outputs": [],
   "source": [
    "# Check if we are using Spark 2.0\n",
    "if using_spark_2:\n",
    "    reader = sc\n",
    "else:\n",
    "    reader = sqlContext\n",
    "# Read the training dataset.\n",
    "raw_dataset_train = reader.read.format('com.databricks.spark.csv') \\\n",
    "                          .options(header='true', inferSchema='true') \\\n",
    "                          .load(path_train)\n",
    "# Read the testing dataset.\n",
    "raw_dataset_test = reader.read.format('com.databricks.spark.csv') \\\n",
    "                         .options(header='true', inferSchema='true') \\\n",
    "                         .load(path_test)"
   ]
  },
  {
   "cell_type": "markdown",
   "metadata": {},
   "source": [
    "As shown in the output of the cell above, we see that every pixel is associated with a seperate column. In order to ensure compatibility with Apache Spark, we vectorize the columns, and add the resulting vectors as a seperate column. However, in order to achieve this, we first need a list of the required columns. This is shown in the cell below."
   ]
  },
  {
   "cell_type": "code",
   "execution_count": 7,
   "metadata": {
    "collapsed": false
   },
   "outputs": [
    {
     "name": "stdout",
     "output_type": "stream",
     "text": [
      "root\n",
      " |-- label: integer (nullable = true)\n",
      " |-- pixel0: integer (nullable = true)\n",
      " |-- pixel1: integer (nullable = true)\n",
      " |-- pixel2: integer (nullable = true)\n",
      " |-- pixel3: integer (nullable = true)\n",
      " |-- pixel4: integer (nullable = true)\n",
      " |-- pixel5: integer (nullable = true)\n",
      " |-- pixel6: integer (nullable = true)\n",
      " |-- pixel7: integer (nullable = true)\n",
      " |-- pixel8: integer (nullable = true)\n",
      " |-- pixel9: integer (nullable = true)\n",
      " |-- pixel10: integer (nullable = true)\n",
      " |-- pixel11: integer (nullable = true)\n",
      " |-- pixel12: integer (nullable = true)\n",
      " |-- pixel13: integer (nullable = true)\n",
      " |-- pixel14: integer (nullable = true)\n",
      " |-- pixel15: integer (nullable = true)\n",
      " |-- pixel16: integer (nullable = true)\n",
      " |-- pixel17: integer (nullable = true)\n",
      " |-- pixel18: integer (nullable = true)\n",
      " |-- pixel19: integer (nullable = true)\n",
      " |-- pixel20: integer (nullable = true)\n",
      " |-- pixel21: integer (nullable = true)\n",
      " |-- pixel22: integer (nullable = true)\n",
      " |-- pixel23: integer (nullable = true)\n",
      " |-- pixel24: integer (nullable = true)\n",
      " |-- pixel25: integer (nullable = true)\n",
      " |-- pixel26: integer (nullable = true)\n",
      " |-- pixel27: integer (nullable = true)\n",
      " |-- pixel28: integer (nullable = true)\n",
      " |-- pixel29: integer (nullable = true)\n",
      " |-- pixel30: integer (nullable = true)\n",
      " |-- pixel31: integer (nullable = true)\n",
      " |-- pixel32: integer (nullable = true)\n",
      " |-- pixel33: integer (nullable = true)\n",
      " |-- pixel34: integer (nullable = true)\n",
      " |-- pixel35: integer (nullable = true)\n",
      " |-- pixel36: integer (nullable = true)\n",
      " |-- pixel37: integer (nullable = true)\n",
      " |-- pixel38: integer (nullable = true)\n",
      " |-- pixel39: integer (nullable = true)\n",
      " |-- pixel40: integer (nullable = true)\n",
      " |-- pixel41: integer (nullable = true)\n",
      " |-- pixel42: integer (nullable = true)\n",
      " |-- pixel43: integer (nullable = true)\n",
      " |-- pixel44: integer (nullable = true)\n",
      " |-- pixel45: integer (nullable = true)\n",
      " |-- pixel46: integer (nullable = true)\n",
      " |-- pixel47: integer (nullable = true)\n",
      " |-- pixel48: integer (nullable = true)\n",
      " |-- pixel49: integer (nullable = true)\n",
      " |-- pixel50: integer (nullable = true)\n",
      " |-- pixel51: integer (nullable = true)\n",
      " |-- pixel52: integer (nullable = true)\n",
      " |-- pixel53: integer (nullable = true)\n",
      " |-- pixel54: integer (nullable = true)\n",
      " |-- pixel55: integer (nullable = true)\n",
      " |-- pixel56: integer (nullable = true)\n",
      " |-- pixel57: integer (nullable = true)\n",
      " |-- pixel58: integer (nullable = true)\n",
      " |-- pixel59: integer (nullable = true)\n",
      " |-- pixel60: integer (nullable = true)\n",
      " |-- pixel61: integer (nullable = true)\n",
      " |-- pixel62: integer (nullable = true)\n",
      " |-- pixel63: integer (nullable = true)\n",
      " |-- pixel64: integer (nullable = true)\n",
      " |-- pixel65: integer (nullable = true)\n",
      " |-- pixel66: integer (nullable = true)\n",
      " |-- pixel67: integer (nullable = true)\n",
      " |-- pixel68: integer (nullable = true)\n",
      " |-- pixel69: integer (nullable = true)\n",
      " |-- pixel70: integer (nullable = true)\n",
      " |-- pixel71: integer (nullable = true)\n",
      " |-- pixel72: integer (nullable = true)\n",
      " |-- pixel73: integer (nullable = true)\n",
      " |-- pixel74: integer (nullable = true)\n",
      " |-- pixel75: integer (nullable = true)\n",
      " |-- pixel76: integer (nullable = true)\n",
      " |-- pixel77: integer (nullable = true)\n",
      " |-- pixel78: integer (nullable = true)\n",
      " |-- pixel79: integer (nullable = true)\n",
      " |-- pixel80: integer (nullable = true)\n",
      " |-- pixel81: integer (nullable = true)\n",
      " |-- pixel82: integer (nullable = true)\n",
      " |-- pixel83: integer (nullable = true)\n",
      " |-- pixel84: integer (nullable = true)\n",
      " |-- pixel85: integer (nullable = true)\n",
      " |-- pixel86: integer (nullable = true)\n",
      " |-- pixel87: integer (nullable = true)\n",
      " |-- pixel88: integer (nullable = true)\n",
      " |-- pixel89: integer (nullable = true)\n",
      " |-- pixel90: integer (nullable = true)\n",
      " |-- pixel91: integer (nullable = true)\n",
      " |-- pixel92: integer (nullable = true)\n",
      " |-- pixel93: integer (nullable = true)\n",
      " |-- pixel94: integer (nullable = true)\n",
      " |-- pixel95: integer (nullable = true)\n",
      " |-- pixel96: integer (nullable = true)\n",
      " |-- pixel97: integer (nullable = true)\n",
      " |-- pixel98: integer (nullable = true)\n",
      " |-- pixel99: integer (nullable = true)\n",
      " |-- pixel100: integer (nullable = true)\n",
      " |-- pixel101: integer (nullable = true)\n",
      " |-- pixel102: integer (nullable = true)\n",
      " |-- pixel103: integer (nullable = true)\n",
      " |-- pixel104: integer (nullable = true)\n",
      " |-- pixel105: integer (nullable = true)\n",
      " |-- pixel106: integer (nullable = true)\n",
      " |-- pixel107: integer (nullable = true)\n",
      " |-- pixel108: integer (nullable = true)\n",
      " |-- pixel109: integer (nullable = true)\n",
      " |-- pixel110: integer (nullable = true)\n",
      " |-- pixel111: integer (nullable = true)\n",
      " |-- pixel112: integer (nullable = true)\n",
      " |-- pixel113: integer (nullable = true)\n",
      " |-- pixel114: integer (nullable = true)\n",
      " |-- pixel115: integer (nullable = true)\n",
      " |-- pixel116: integer (nullable = true)\n",
      " |-- pixel117: integer (nullable = true)\n",
      " |-- pixel118: integer (nullable = true)\n",
      " |-- pixel119: integer (nullable = true)\n",
      " |-- pixel120: integer (nullable = true)\n",
      " |-- pixel121: integer (nullable = true)\n",
      " |-- pixel122: integer (nullable = true)\n",
      " |-- pixel123: integer (nullable = true)\n",
      " |-- pixel124: integer (nullable = true)\n",
      " |-- pixel125: integer (nullable = true)\n",
      " |-- pixel126: integer (nullable = true)\n",
      " |-- pixel127: integer (nullable = true)\n",
      " |-- pixel128: integer (nullable = true)\n",
      " |-- pixel129: integer (nullable = true)\n",
      " |-- pixel130: integer (nullable = true)\n",
      " |-- pixel131: integer (nullable = true)\n",
      " |-- pixel132: integer (nullable = true)\n",
      " |-- pixel133: integer (nullable = true)\n",
      " |-- pixel134: integer (nullable = true)\n",
      " |-- pixel135: integer (nullable = true)\n",
      " |-- pixel136: integer (nullable = true)\n",
      " |-- pixel137: integer (nullable = true)\n",
      " |-- pixel138: integer (nullable = true)\n",
      " |-- pixel139: integer (nullable = true)\n",
      " |-- pixel140: integer (nullable = true)\n",
      " |-- pixel141: integer (nullable = true)\n",
      " |-- pixel142: integer (nullable = true)\n",
      " |-- pixel143: integer (nullable = true)\n",
      " |-- pixel144: integer (nullable = true)\n",
      " |-- pixel145: integer (nullable = true)\n",
      " |-- pixel146: integer (nullable = true)\n",
      " |-- pixel147: integer (nullable = true)\n",
      " |-- pixel148: integer (nullable = true)\n",
      " |-- pixel149: integer (nullable = true)\n",
      " |-- pixel150: integer (nullable = true)\n",
      " |-- pixel151: integer (nullable = true)\n",
      " |-- pixel152: integer (nullable = true)\n",
      " |-- pixel153: integer (nullable = true)\n",
      " |-- pixel154: integer (nullable = true)\n",
      " |-- pixel155: integer (nullable = true)\n",
      " |-- pixel156: integer (nullable = true)\n",
      " |-- pixel157: integer (nullable = true)\n",
      " |-- pixel158: integer (nullable = true)\n",
      " |-- pixel159: integer (nullable = true)\n",
      " |-- pixel160: integer (nullable = true)\n",
      " |-- pixel161: integer (nullable = true)\n",
      " |-- pixel162: integer (nullable = true)\n",
      " |-- pixel163: integer (nullable = true)\n",
      " |-- pixel164: integer (nullable = true)\n",
      " |-- pixel165: integer (nullable = true)\n",
      " |-- pixel166: integer (nullable = true)\n",
      " |-- pixel167: integer (nullable = true)\n",
      " |-- pixel168: integer (nullable = true)\n",
      " |-- pixel169: integer (nullable = true)\n",
      " |-- pixel170: integer (nullable = true)\n",
      " |-- pixel171: integer (nullable = true)\n",
      " |-- pixel172: integer (nullable = true)\n",
      " |-- pixel173: integer (nullable = true)\n",
      " |-- pixel174: integer (nullable = true)\n",
      " |-- pixel175: integer (nullable = true)\n",
      " |-- pixel176: integer (nullable = true)\n",
      " |-- pixel177: integer (nullable = true)\n",
      " |-- pixel178: integer (nullable = true)\n",
      " |-- pixel179: integer (nullable = true)\n",
      " |-- pixel180: integer (nullable = true)\n",
      " |-- pixel181: integer (nullable = true)\n",
      " |-- pixel182: integer (nullable = true)\n",
      " |-- pixel183: integer (nullable = true)\n",
      " |-- pixel184: integer (nullable = true)\n",
      " |-- pixel185: integer (nullable = true)\n",
      " |-- pixel186: integer (nullable = true)\n",
      " |-- pixel187: integer (nullable = true)\n",
      " |-- pixel188: integer (nullable = true)\n",
      " |-- pixel189: integer (nullable = true)\n",
      " |-- pixel190: integer (nullable = true)\n",
      " |-- pixel191: integer (nullable = true)\n",
      " |-- pixel192: integer (nullable = true)\n",
      " |-- pixel193: integer (nullable = true)\n",
      " |-- pixel194: integer (nullable = true)\n",
      " |-- pixel195: integer (nullable = true)\n",
      " |-- pixel196: integer (nullable = true)\n",
      " |-- pixel197: integer (nullable = true)\n",
      " |-- pixel198: integer (nullable = true)\n",
      " |-- pixel199: integer (nullable = true)\n",
      " |-- pixel200: integer (nullable = true)\n",
      " |-- pixel201: integer (nullable = true)\n",
      " |-- pixel202: integer (nullable = true)\n",
      " |-- pixel203: integer (nullable = true)\n",
      " |-- pixel204: integer (nullable = true)\n",
      " |-- pixel205: integer (nullable = true)\n",
      " |-- pixel206: integer (nullable = true)\n",
      " |-- pixel207: integer (nullable = true)\n",
      " |-- pixel208: integer (nullable = true)\n",
      " |-- pixel209: integer (nullable = true)\n",
      " |-- pixel210: integer (nullable = true)\n",
      " |-- pixel211: integer (nullable = true)\n",
      " |-- pixel212: integer (nullable = true)\n",
      " |-- pixel213: integer (nullable = true)\n",
      " |-- pixel214: integer (nullable = true)\n",
      " |-- pixel215: integer (nullable = true)\n",
      " |-- pixel216: integer (nullable = true)\n",
      " |-- pixel217: integer (nullable = true)\n",
      " |-- pixel218: integer (nullable = true)\n",
      " |-- pixel219: integer (nullable = true)\n",
      " |-- pixel220: integer (nullable = true)\n",
      " |-- pixel221: integer (nullable = true)\n",
      " |-- pixel222: integer (nullable = true)\n",
      " |-- pixel223: integer (nullable = true)\n",
      " |-- pixel224: integer (nullable = true)\n",
      " |-- pixel225: integer (nullable = true)\n",
      " |-- pixel226: integer (nullable = true)\n",
      " |-- pixel227: integer (nullable = true)\n",
      " |-- pixel228: integer (nullable = true)\n",
      " |-- pixel229: integer (nullable = true)\n",
      " |-- pixel230: integer (nullable = true)\n",
      " |-- pixel231: integer (nullable = true)\n",
      " |-- pixel232: integer (nullable = true)\n",
      " |-- pixel233: integer (nullable = true)\n",
      " |-- pixel234: integer (nullable = true)\n",
      " |-- pixel235: integer (nullable = true)\n",
      " |-- pixel236: integer (nullable = true)\n",
      " |-- pixel237: integer (nullable = true)\n",
      " |-- pixel238: integer (nullable = true)\n",
      " |-- pixel239: integer (nullable = true)\n",
      " |-- pixel240: integer (nullable = true)\n",
      " |-- pixel241: integer (nullable = true)\n",
      " |-- pixel242: integer (nullable = true)\n",
      " |-- pixel243: integer (nullable = true)\n",
      " |-- pixel244: integer (nullable = true)\n",
      " |-- pixel245: integer (nullable = true)\n",
      " |-- pixel246: integer (nullable = true)\n",
      " |-- pixel247: integer (nullable = true)\n",
      " |-- pixel248: integer (nullable = true)\n",
      " |-- pixel249: integer (nullable = true)\n",
      " |-- pixel250: integer (nullable = true)\n",
      " |-- pixel251: integer (nullable = true)\n",
      " |-- pixel252: integer (nullable = true)\n",
      " |-- pixel253: integer (nullable = true)\n",
      " |-- pixel254: integer (nullable = true)\n",
      " |-- pixel255: integer (nullable = true)\n",
      " |-- pixel256: integer (nullable = true)\n",
      " |-- pixel257: integer (nullable = true)\n",
      " |-- pixel258: integer (nullable = true)\n",
      " |-- pixel259: integer (nullable = true)\n",
      " |-- pixel260: integer (nullable = true)\n",
      " |-- pixel261: integer (nullable = true)\n",
      " |-- pixel262: integer (nullable = true)\n",
      " |-- pixel263: integer (nullable = true)\n",
      " |-- pixel264: integer (nullable = true)\n",
      " |-- pixel265: integer (nullable = true)\n",
      " |-- pixel266: integer (nullable = true)\n",
      " |-- pixel267: integer (nullable = true)\n",
      " |-- pixel268: integer (nullable = true)\n",
      " |-- pixel269: integer (nullable = true)\n",
      " |-- pixel270: integer (nullable = true)\n",
      " |-- pixel271: integer (nullable = true)\n",
      " |-- pixel272: integer (nullable = true)\n",
      " |-- pixel273: integer (nullable = true)\n",
      " |-- pixel274: integer (nullable = true)\n",
      " |-- pixel275: integer (nullable = true)\n",
      " |-- pixel276: integer (nullable = true)\n",
      " |-- pixel277: integer (nullable = true)\n",
      " |-- pixel278: integer (nullable = true)\n",
      " |-- pixel279: integer (nullable = true)\n",
      " |-- pixel280: integer (nullable = true)\n",
      " |-- pixel281: integer (nullable = true)\n",
      " |-- pixel282: integer (nullable = true)\n",
      " |-- pixel283: integer (nullable = true)\n",
      " |-- pixel284: integer (nullable = true)\n",
      " |-- pixel285: integer (nullable = true)\n",
      " |-- pixel286: integer (nullable = true)\n",
      " |-- pixel287: integer (nullable = true)\n",
      " |-- pixel288: integer (nullable = true)\n",
      " |-- pixel289: integer (nullable = true)\n",
      " |-- pixel290: integer (nullable = true)\n",
      " |-- pixel291: integer (nullable = true)\n",
      " |-- pixel292: integer (nullable = true)\n",
      " |-- pixel293: integer (nullable = true)\n",
      " |-- pixel294: integer (nullable = true)\n",
      " |-- pixel295: integer (nullable = true)\n",
      " |-- pixel296: integer (nullable = true)\n",
      " |-- pixel297: integer (nullable = true)\n",
      " |-- pixel298: integer (nullable = true)\n",
      " |-- pixel299: integer (nullable = true)\n",
      " |-- pixel300: integer (nullable = true)\n",
      " |-- pixel301: integer (nullable = true)\n",
      " |-- pixel302: integer (nullable = true)\n",
      " |-- pixel303: integer (nullable = true)\n",
      " |-- pixel304: integer (nullable = true)\n",
      " |-- pixel305: integer (nullable = true)\n",
      " |-- pixel306: integer (nullable = true)\n",
      " |-- pixel307: integer (nullable = true)\n",
      " |-- pixel308: integer (nullable = true)\n",
      " |-- pixel309: integer (nullable = true)\n",
      " |-- pixel310: integer (nullable = true)\n",
      " |-- pixel311: integer (nullable = true)\n",
      " |-- pixel312: integer (nullable = true)\n",
      " |-- pixel313: integer (nullable = true)\n",
      " |-- pixel314: integer (nullable = true)\n",
      " |-- pixel315: integer (nullable = true)\n",
      " |-- pixel316: integer (nullable = true)\n",
      " |-- pixel317: integer (nullable = true)\n",
      " |-- pixel318: integer (nullable = true)\n",
      " |-- pixel319: integer (nullable = true)\n",
      " |-- pixel320: integer (nullable = true)\n",
      " |-- pixel321: integer (nullable = true)\n",
      " |-- pixel322: integer (nullable = true)\n",
      " |-- pixel323: integer (nullable = true)\n",
      " |-- pixel324: integer (nullable = true)\n",
      " |-- pixel325: integer (nullable = true)\n",
      " |-- pixel326: integer (nullable = true)\n",
      " |-- pixel327: integer (nullable = true)\n",
      " |-- pixel328: integer (nullable = true)\n",
      " |-- pixel329: integer (nullable = true)\n",
      " |-- pixel330: integer (nullable = true)\n",
      " |-- pixel331: integer (nullable = true)\n",
      " |-- pixel332: integer (nullable = true)\n",
      " |-- pixel333: integer (nullable = true)\n",
      " |-- pixel334: integer (nullable = true)\n",
      " |-- pixel335: integer (nullable = true)\n",
      " |-- pixel336: integer (nullable = true)\n",
      " |-- pixel337: integer (nullable = true)\n",
      " |-- pixel338: integer (nullable = true)\n",
      " |-- pixel339: integer (nullable = true)\n",
      " |-- pixel340: integer (nullable = true)\n",
      " |-- pixel341: integer (nullable = true)\n",
      " |-- pixel342: integer (nullable = true)\n",
      " |-- pixel343: integer (nullable = true)\n",
      " |-- pixel344: integer (nullable = true)\n",
      " |-- pixel345: integer (nullable = true)\n",
      " |-- pixel346: integer (nullable = true)\n",
      " |-- pixel347: integer (nullable = true)\n",
      " |-- pixel348: integer (nullable = true)\n",
      " |-- pixel349: integer (nullable = true)\n",
      " |-- pixel350: integer (nullable = true)\n",
      " |-- pixel351: integer (nullable = true)\n",
      " |-- pixel352: integer (nullable = true)\n",
      " |-- pixel353: integer (nullable = true)\n",
      " |-- pixel354: integer (nullable = true)\n",
      " |-- pixel355: integer (nullable = true)\n",
      " |-- pixel356: integer (nullable = true)\n",
      " |-- pixel357: integer (nullable = true)\n",
      " |-- pixel358: integer (nullable = true)\n",
      " |-- pixel359: integer (nullable = true)\n",
      " |-- pixel360: integer (nullable = true)\n",
      " |-- pixel361: integer (nullable = true)\n",
      " |-- pixel362: integer (nullable = true)\n",
      " |-- pixel363: integer (nullable = true)\n",
      " |-- pixel364: integer (nullable = true)\n",
      " |-- pixel365: integer (nullable = true)\n",
      " |-- pixel366: integer (nullable = true)\n",
      " |-- pixel367: integer (nullable = true)\n",
      " |-- pixel368: integer (nullable = true)\n",
      " |-- pixel369: integer (nullable = true)\n",
      " |-- pixel370: integer (nullable = true)\n",
      " |-- pixel371: integer (nullable = true)\n",
      " |-- pixel372: integer (nullable = true)\n",
      " |-- pixel373: integer (nullable = true)\n",
      " |-- pixel374: integer (nullable = true)\n",
      " |-- pixel375: integer (nullable = true)\n",
      " |-- pixel376: integer (nullable = true)\n",
      " |-- pixel377: integer (nullable = true)\n",
      " |-- pixel378: integer (nullable = true)\n",
      " |-- pixel379: integer (nullable = true)\n",
      " |-- pixel380: integer (nullable = true)\n",
      " |-- pixel381: integer (nullable = true)\n",
      " |-- pixel382: integer (nullable = true)\n",
      " |-- pixel383: integer (nullable = true)\n",
      " |-- pixel384: integer (nullable = true)\n",
      " |-- pixel385: integer (nullable = true)\n",
      " |-- pixel386: integer (nullable = true)\n",
      " |-- pixel387: integer (nullable = true)\n",
      " |-- pixel388: integer (nullable = true)\n",
      " |-- pixel389: integer (nullable = true)\n",
      " |-- pixel390: integer (nullable = true)\n",
      " |-- pixel391: integer (nullable = true)\n",
      " |-- pixel392: integer (nullable = true)\n",
      " |-- pixel393: integer (nullable = true)\n",
      " |-- pixel394: integer (nullable = true)\n",
      " |-- pixel395: integer (nullable = true)\n",
      " |-- pixel396: integer (nullable = true)\n",
      " |-- pixel397: integer (nullable = true)\n",
      " |-- pixel398: integer (nullable = true)\n",
      " |-- pixel399: integer (nullable = true)\n",
      " |-- pixel400: integer (nullable = true)\n",
      " |-- pixel401: integer (nullable = true)\n",
      " |-- pixel402: integer (nullable = true)\n",
      " |-- pixel403: integer (nullable = true)\n",
      " |-- pixel404: integer (nullable = true)\n",
      " |-- pixel405: integer (nullable = true)\n",
      " |-- pixel406: integer (nullable = true)\n",
      " |-- pixel407: integer (nullable = true)\n",
      " |-- pixel408: integer (nullable = true)\n",
      " |-- pixel409: integer (nullable = true)\n",
      " |-- pixel410: integer (nullable = true)\n",
      " |-- pixel411: integer (nullable = true)\n",
      " |-- pixel412: integer (nullable = true)\n",
      " |-- pixel413: integer (nullable = true)\n",
      " |-- pixel414: integer (nullable = true)\n",
      " |-- pixel415: integer (nullable = true)\n",
      " |-- pixel416: integer (nullable = true)\n",
      " |-- pixel417: integer (nullable = true)\n",
      " |-- pixel418: integer (nullable = true)\n",
      " |-- pixel419: integer (nullable = true)\n",
      " |-- pixel420: integer (nullable = true)\n",
      " |-- pixel421: integer (nullable = true)\n",
      " |-- pixel422: integer (nullable = true)\n",
      " |-- pixel423: integer (nullable = true)\n",
      " |-- pixel424: integer (nullable = true)\n",
      " |-- pixel425: integer (nullable = true)\n",
      " |-- pixel426: integer (nullable = true)\n",
      " |-- pixel427: integer (nullable = true)\n",
      " |-- pixel428: integer (nullable = true)\n",
      " |-- pixel429: integer (nullable = true)\n",
      " |-- pixel430: integer (nullable = true)\n",
      " |-- pixel431: integer (nullable = true)\n",
      " |-- pixel432: integer (nullable = true)\n",
      " |-- pixel433: integer (nullable = true)\n",
      " |-- pixel434: integer (nullable = true)\n",
      " |-- pixel435: integer (nullable = true)\n",
      " |-- pixel436: integer (nullable = true)\n",
      " |-- pixel437: integer (nullable = true)\n",
      " |-- pixel438: integer (nullable = true)\n",
      " |-- pixel439: integer (nullable = true)\n",
      " |-- pixel440: integer (nullable = true)\n",
      " |-- pixel441: integer (nullable = true)\n",
      " |-- pixel442: integer (nullable = true)\n",
      " |-- pixel443: integer (nullable = true)\n",
      " |-- pixel444: integer (nullable = true)\n",
      " |-- pixel445: integer (nullable = true)\n",
      " |-- pixel446: integer (nullable = true)\n",
      " |-- pixel447: integer (nullable = true)\n",
      " |-- pixel448: integer (nullable = true)\n",
      " |-- pixel449: integer (nullable = true)\n",
      " |-- pixel450: integer (nullable = true)\n",
      " |-- pixel451: integer (nullable = true)\n",
      " |-- pixel452: integer (nullable = true)\n",
      " |-- pixel453: integer (nullable = true)\n",
      " |-- pixel454: integer (nullable = true)\n",
      " |-- pixel455: integer (nullable = true)\n",
      " |-- pixel456: integer (nullable = true)\n",
      " |-- pixel457: integer (nullable = true)\n",
      " |-- pixel458: integer (nullable = true)\n",
      " |-- pixel459: integer (nullable = true)\n",
      " |-- pixel460: integer (nullable = true)\n",
      " |-- pixel461: integer (nullable = true)\n",
      " |-- pixel462: integer (nullable = true)\n",
      " |-- pixel463: integer (nullable = true)\n",
      " |-- pixel464: integer (nullable = true)\n",
      " |-- pixel465: integer (nullable = true)\n",
      " |-- pixel466: integer (nullable = true)\n",
      " |-- pixel467: integer (nullable = true)\n",
      " |-- pixel468: integer (nullable = true)\n",
      " |-- pixel469: integer (nullable = true)\n",
      " |-- pixel470: integer (nullable = true)\n",
      " |-- pixel471: integer (nullable = true)\n",
      " |-- pixel472: integer (nullable = true)\n",
      " |-- pixel473: integer (nullable = true)\n",
      " |-- pixel474: integer (nullable = true)\n",
      " |-- pixel475: integer (nullable = true)\n",
      " |-- pixel476: integer (nullable = true)\n",
      " |-- pixel477: integer (nullable = true)\n",
      " |-- pixel478: integer (nullable = true)\n",
      " |-- pixel479: integer (nullable = true)\n",
      " |-- pixel480: integer (nullable = true)\n",
      " |-- pixel481: integer (nullable = true)\n",
      " |-- pixel482: integer (nullable = true)\n",
      " |-- pixel483: integer (nullable = true)\n",
      " |-- pixel484: integer (nullable = true)\n",
      " |-- pixel485: integer (nullable = true)\n",
      " |-- pixel486: integer (nullable = true)\n",
      " |-- pixel487: integer (nullable = true)\n",
      " |-- pixel488: integer (nullable = true)\n",
      " |-- pixel489: integer (nullable = true)\n",
      " |-- pixel490: integer (nullable = true)\n",
      " |-- pixel491: integer (nullable = true)\n",
      " |-- pixel492: integer (nullable = true)\n",
      " |-- pixel493: integer (nullable = true)\n",
      " |-- pixel494: integer (nullable = true)\n",
      " |-- pixel495: integer (nullable = true)\n",
      " |-- pixel496: integer (nullable = true)\n",
      " |-- pixel497: integer (nullable = true)\n",
      " |-- pixel498: integer (nullable = true)\n",
      " |-- pixel499: integer (nullable = true)\n",
      " |-- pixel500: integer (nullable = true)\n",
      " |-- pixel501: integer (nullable = true)\n",
      " |-- pixel502: integer (nullable = true)\n",
      " |-- pixel503: integer (nullable = true)\n",
      " |-- pixel504: integer (nullable = true)\n",
      " |-- pixel505: integer (nullable = true)\n",
      " |-- pixel506: integer (nullable = true)\n",
      " |-- pixel507: integer (nullable = true)\n",
      " |-- pixel508: integer (nullable = true)\n",
      " |-- pixel509: integer (nullable = true)\n",
      " |-- pixel510: integer (nullable = true)\n",
      " |-- pixel511: integer (nullable = true)\n",
      " |-- pixel512: integer (nullable = true)\n",
      " |-- pixel513: integer (nullable = true)\n",
      " |-- pixel514: integer (nullable = true)\n",
      " |-- pixel515: integer (nullable = true)\n",
      " |-- pixel516: integer (nullable = true)\n",
      " |-- pixel517: integer (nullable = true)\n",
      " |-- pixel518: integer (nullable = true)\n",
      " |-- pixel519: integer (nullable = true)\n",
      " |-- pixel520: integer (nullable = true)\n",
      " |-- pixel521: integer (nullable = true)\n",
      " |-- pixel522: integer (nullable = true)\n",
      " |-- pixel523: integer (nullable = true)\n",
      " |-- pixel524: integer (nullable = true)\n",
      " |-- pixel525: integer (nullable = true)\n",
      " |-- pixel526: integer (nullable = true)\n",
      " |-- pixel527: integer (nullable = true)\n",
      " |-- pixel528: integer (nullable = true)\n",
      " |-- pixel529: integer (nullable = true)\n",
      " |-- pixel530: integer (nullable = true)\n",
      " |-- pixel531: integer (nullable = true)\n",
      " |-- pixel532: integer (nullable = true)\n",
      " |-- pixel533: integer (nullable = true)\n",
      " |-- pixel534: integer (nullable = true)\n",
      " |-- pixel535: integer (nullable = true)\n",
      " |-- pixel536: integer (nullable = true)\n",
      " |-- pixel537: integer (nullable = true)\n",
      " |-- pixel538: integer (nullable = true)\n",
      " |-- pixel539: integer (nullable = true)\n",
      " |-- pixel540: integer (nullable = true)\n",
      " |-- pixel541: integer (nullable = true)\n",
      " |-- pixel542: integer (nullable = true)\n",
      " |-- pixel543: integer (nullable = true)\n",
      " |-- pixel544: integer (nullable = true)\n",
      " |-- pixel545: integer (nullable = true)\n",
      " |-- pixel546: integer (nullable = true)\n",
      " |-- pixel547: integer (nullable = true)\n",
      " |-- pixel548: integer (nullable = true)\n",
      " |-- pixel549: integer (nullable = true)\n",
      " |-- pixel550: integer (nullable = true)\n",
      " |-- pixel551: integer (nullable = true)\n",
      " |-- pixel552: integer (nullable = true)\n",
      " |-- pixel553: integer (nullable = true)\n",
      " |-- pixel554: integer (nullable = true)\n",
      " |-- pixel555: integer (nullable = true)\n",
      " |-- pixel556: integer (nullable = true)\n",
      " |-- pixel557: integer (nullable = true)\n",
      " |-- pixel558: integer (nullable = true)\n",
      " |-- pixel559: integer (nullable = true)\n",
      " |-- pixel560: integer (nullable = true)\n",
      " |-- pixel561: integer (nullable = true)\n",
      " |-- pixel562: integer (nullable = true)\n",
      " |-- pixel563: integer (nullable = true)\n",
      " |-- pixel564: integer (nullable = true)\n",
      " |-- pixel565: integer (nullable = true)\n",
      " |-- pixel566: integer (nullable = true)\n",
      " |-- pixel567: integer (nullable = true)\n",
      " |-- pixel568: integer (nullable = true)\n",
      " |-- pixel569: integer (nullable = true)\n",
      " |-- pixel570: integer (nullable = true)\n",
      " |-- pixel571: integer (nullable = true)\n",
      " |-- pixel572: integer (nullable = true)\n",
      " |-- pixel573: integer (nullable = true)\n",
      " |-- pixel574: integer (nullable = true)\n",
      " |-- pixel575: integer (nullable = true)\n",
      " |-- pixel576: integer (nullable = true)\n",
      " |-- pixel577: integer (nullable = true)\n",
      " |-- pixel578: integer (nullable = true)\n",
      " |-- pixel579: integer (nullable = true)\n",
      " |-- pixel580: integer (nullable = true)\n",
      " |-- pixel581: integer (nullable = true)\n",
      " |-- pixel582: integer (nullable = true)\n",
      " |-- pixel583: integer (nullable = true)\n",
      " |-- pixel584: integer (nullable = true)\n",
      " |-- pixel585: integer (nullable = true)\n",
      " |-- pixel586: integer (nullable = true)\n",
      " |-- pixel587: integer (nullable = true)\n",
      " |-- pixel588: integer (nullable = true)\n",
      " |-- pixel589: integer (nullable = true)\n",
      " |-- pixel590: integer (nullable = true)\n",
      " |-- pixel591: integer (nullable = true)\n",
      " |-- pixel592: integer (nullable = true)\n",
      " |-- pixel593: integer (nullable = true)\n",
      " |-- pixel594: integer (nullable = true)\n",
      " |-- pixel595: integer (nullable = true)\n",
      " |-- pixel596: integer (nullable = true)\n",
      " |-- pixel597: integer (nullable = true)\n",
      " |-- pixel598: integer (nullable = true)\n",
      " |-- pixel599: integer (nullable = true)\n",
      " |-- pixel600: integer (nullable = true)\n",
      " |-- pixel601: integer (nullable = true)\n",
      " |-- pixel602: integer (nullable = true)\n",
      " |-- pixel603: integer (nullable = true)\n",
      " |-- pixel604: integer (nullable = true)\n",
      " |-- pixel605: integer (nullable = true)\n",
      " |-- pixel606: integer (nullable = true)\n",
      " |-- pixel607: integer (nullable = true)\n",
      " |-- pixel608: integer (nullable = true)\n",
      " |-- pixel609: integer (nullable = true)\n",
      " |-- pixel610: integer (nullable = true)\n",
      " |-- pixel611: integer (nullable = true)\n",
      " |-- pixel612: integer (nullable = true)\n",
      " |-- pixel613: integer (nullable = true)\n",
      " |-- pixel614: integer (nullable = true)\n",
      " |-- pixel615: integer (nullable = true)\n",
      " |-- pixel616: integer (nullable = true)\n",
      " |-- pixel617: integer (nullable = true)\n",
      " |-- pixel618: integer (nullable = true)\n",
      " |-- pixel619: integer (nullable = true)\n",
      " |-- pixel620: integer (nullable = true)\n",
      " |-- pixel621: integer (nullable = true)\n",
      " |-- pixel622: integer (nullable = true)\n",
      " |-- pixel623: integer (nullable = true)\n",
      " |-- pixel624: integer (nullable = true)\n",
      " |-- pixel625: integer (nullable = true)\n",
      " |-- pixel626: integer (nullable = true)\n",
      " |-- pixel627: integer (nullable = true)\n",
      " |-- pixel628: integer (nullable = true)\n",
      " |-- pixel629: integer (nullable = true)\n",
      " |-- pixel630: integer (nullable = true)\n",
      " |-- pixel631: integer (nullable = true)\n",
      " |-- pixel632: integer (nullable = true)\n",
      " |-- pixel633: integer (nullable = true)\n",
      " |-- pixel634: integer (nullable = true)\n",
      " |-- pixel635: integer (nullable = true)\n",
      " |-- pixel636: integer (nullable = true)\n",
      " |-- pixel637: integer (nullable = true)\n",
      " |-- pixel638: integer (nullable = true)\n",
      " |-- pixel639: integer (nullable = true)\n",
      " |-- pixel640: integer (nullable = true)\n",
      " |-- pixel641: integer (nullable = true)\n",
      " |-- pixel642: integer (nullable = true)\n",
      " |-- pixel643: integer (nullable = true)\n",
      " |-- pixel644: integer (nullable = true)\n",
      " |-- pixel645: integer (nullable = true)\n",
      " |-- pixel646: integer (nullable = true)\n",
      " |-- pixel647: integer (nullable = true)\n",
      " |-- pixel648: integer (nullable = true)\n",
      " |-- pixel649: integer (nullable = true)\n",
      " |-- pixel650: integer (nullable = true)\n",
      " |-- pixel651: integer (nullable = true)\n",
      " |-- pixel652: integer (nullable = true)\n",
      " |-- pixel653: integer (nullable = true)\n",
      " |-- pixel654: integer (nullable = true)\n",
      " |-- pixel655: integer (nullable = true)\n",
      " |-- pixel656: integer (nullable = true)\n",
      " |-- pixel657: integer (nullable = true)\n",
      " |-- pixel658: integer (nullable = true)\n",
      " |-- pixel659: integer (nullable = true)\n",
      " |-- pixel660: integer (nullable = true)\n",
      " |-- pixel661: integer (nullable = true)\n",
      " |-- pixel662: integer (nullable = true)\n",
      " |-- pixel663: integer (nullable = true)\n",
      " |-- pixel664: integer (nullable = true)\n",
      " |-- pixel665: integer (nullable = true)\n",
      " |-- pixel666: integer (nullable = true)\n",
      " |-- pixel667: integer (nullable = true)\n",
      " |-- pixel668: integer (nullable = true)\n",
      " |-- pixel669: integer (nullable = true)\n",
      " |-- pixel670: integer (nullable = true)\n",
      " |-- pixel671: integer (nullable = true)\n",
      " |-- pixel672: integer (nullable = true)\n",
      " |-- pixel673: integer (nullable = true)\n",
      " |-- pixel674: integer (nullable = true)\n",
      " |-- pixel675: integer (nullable = true)\n",
      " |-- pixel676: integer (nullable = true)\n",
      " |-- pixel677: integer (nullable = true)\n",
      " |-- pixel678: integer (nullable = true)\n",
      " |-- pixel679: integer (nullable = true)\n",
      " |-- pixel680: integer (nullable = true)\n",
      " |-- pixel681: integer (nullable = true)\n",
      " |-- pixel682: integer (nullable = true)\n",
      " |-- pixel683: integer (nullable = true)\n",
      " |-- pixel684: integer (nullable = true)\n",
      " |-- pixel685: integer (nullable = true)\n",
      " |-- pixel686: integer (nullable = true)\n",
      " |-- pixel687: integer (nullable = true)\n",
      " |-- pixel688: integer (nullable = true)\n",
      " |-- pixel689: integer (nullable = true)\n",
      " |-- pixel690: integer (nullable = true)\n",
      " |-- pixel691: integer (nullable = true)\n",
      " |-- pixel692: integer (nullable = true)\n",
      " |-- pixel693: integer (nullable = true)\n",
      " |-- pixel694: integer (nullable = true)\n",
      " |-- pixel695: integer (nullable = true)\n",
      " |-- pixel696: integer (nullable = true)\n",
      " |-- pixel697: integer (nullable = true)\n",
      " |-- pixel698: integer (nullable = true)\n",
      " |-- pixel699: integer (nullable = true)\n",
      " |-- pixel700: integer (nullable = true)\n",
      " |-- pixel701: integer (nullable = true)\n",
      " |-- pixel702: integer (nullable = true)\n",
      " |-- pixel703: integer (nullable = true)\n",
      " |-- pixel704: integer (nullable = true)\n",
      " |-- pixel705: integer (nullable = true)\n",
      " |-- pixel706: integer (nullable = true)\n",
      " |-- pixel707: integer (nullable = true)\n",
      " |-- pixel708: integer (nullable = true)\n",
      " |-- pixel709: integer (nullable = true)\n",
      " |-- pixel710: integer (nullable = true)\n",
      " |-- pixel711: integer (nullable = true)\n",
      " |-- pixel712: integer (nullable = true)\n",
      " |-- pixel713: integer (nullable = true)\n",
      " |-- pixel714: integer (nullable = true)\n",
      " |-- pixel715: integer (nullable = true)\n",
      " |-- pixel716: integer (nullable = true)\n",
      " |-- pixel717: integer (nullable = true)\n",
      " |-- pixel718: integer (nullable = true)\n",
      " |-- pixel719: integer (nullable = true)\n",
      " |-- pixel720: integer (nullable = true)\n",
      " |-- pixel721: integer (nullable = true)\n",
      " |-- pixel722: integer (nullable = true)\n",
      " |-- pixel723: integer (nullable = true)\n",
      " |-- pixel724: integer (nullable = true)\n",
      " |-- pixel725: integer (nullable = true)\n",
      " |-- pixel726: integer (nullable = true)\n",
      " |-- pixel727: integer (nullable = true)\n",
      " |-- pixel728: integer (nullable = true)\n",
      " |-- pixel729: integer (nullable = true)\n",
      " |-- pixel730: integer (nullable = true)\n",
      " |-- pixel731: integer (nullable = true)\n",
      " |-- pixel732: integer (nullable = true)\n",
      " |-- pixel733: integer (nullable = true)\n",
      " |-- pixel734: integer (nullable = true)\n",
      " |-- pixel735: integer (nullable = true)\n",
      " |-- pixel736: integer (nullable = true)\n",
      " |-- pixel737: integer (nullable = true)\n",
      " |-- pixel738: integer (nullable = true)\n",
      " |-- pixel739: integer (nullable = true)\n",
      " |-- pixel740: integer (nullable = true)\n",
      " |-- pixel741: integer (nullable = true)\n",
      " |-- pixel742: integer (nullable = true)\n",
      " |-- pixel743: integer (nullable = true)\n",
      " |-- pixel744: integer (nullable = true)\n",
      " |-- pixel745: integer (nullable = true)\n",
      " |-- pixel746: integer (nullable = true)\n",
      " |-- pixel747: integer (nullable = true)\n",
      " |-- pixel748: integer (nullable = true)\n",
      " |-- pixel749: integer (nullable = true)\n",
      " |-- pixel750: integer (nullable = true)\n",
      " |-- pixel751: integer (nullable = true)\n",
      " |-- pixel752: integer (nullable = true)\n",
      " |-- pixel753: integer (nullable = true)\n",
      " |-- pixel754: integer (nullable = true)\n",
      " |-- pixel755: integer (nullable = true)\n",
      " |-- pixel756: integer (nullable = true)\n",
      " |-- pixel757: integer (nullable = true)\n",
      " |-- pixel758: integer (nullable = true)\n",
      " |-- pixel759: integer (nullable = true)\n",
      " |-- pixel760: integer (nullable = true)\n",
      " |-- pixel761: integer (nullable = true)\n",
      " |-- pixel762: integer (nullable = true)\n",
      " |-- pixel763: integer (nullable = true)\n",
      " |-- pixel764: integer (nullable = true)\n",
      " |-- pixel765: integer (nullable = true)\n",
      " |-- pixel766: integer (nullable = true)\n",
      " |-- pixel767: integer (nullable = true)\n",
      " |-- pixel768: integer (nullable = true)\n",
      " |-- pixel769: integer (nullable = true)\n",
      " |-- pixel770: integer (nullable = true)\n",
      " |-- pixel771: integer (nullable = true)\n",
      " |-- pixel772: integer (nullable = true)\n",
      " |-- pixel773: integer (nullable = true)\n",
      " |-- pixel774: integer (nullable = true)\n",
      " |-- pixel775: integer (nullable = true)\n",
      " |-- pixel776: integer (nullable = true)\n",
      " |-- pixel777: integer (nullable = true)\n",
      " |-- pixel778: integer (nullable = true)\n",
      " |-- pixel779: integer (nullable = true)\n",
      " |-- pixel780: integer (nullable = true)\n",
      " |-- pixel781: integer (nullable = true)\n",
      " |-- pixel782: integer (nullable = true)\n",
      " |-- pixel783: integer (nullable = true)\n",
      "\n"
     ]
    }
   ],
   "source": [
    "raw_dataset_train.printSchema()"
   ]
  },
  {
   "cell_type": "code",
   "execution_count": 40,
   "metadata": {
    "collapsed": false
   },
   "outputs": [
    {
     "name": "stdout",
     "output_type": "stream",
     "text": [
      "784\n",
      "785\n",
      "784\n"
     ]
    }
   ],
   "source": [
    "# First, we would like to extract the desired features from the raw dataset.\n",
    "# We do this by constructing a list with all desired columns.\n",
    "# This is identical for the test set.\n",
    "features = raw_dataset_train.columns\n",
    "features.remove('label')\n",
    "\n",
    "print len(features)\n",
    "print len(raw_dataset_train.columns)\n",
    "print len(raw_dataset_test.columns)"
   ]
  },
  {
   "cell_type": "markdown",
   "metadata": {},
   "source": [
    "Once we have a list of columns names, we can pass this to Spark's [VectorAssembler](http://spark.apache.org/docs/latest/ml-features.html#vectorassembler). This VectorAssembler will take a list of features, vectorize them, and place them in a column defined in `outputCol`."
   ]
  },
  {
   "cell_type": "code",
   "execution_count": 41,
   "metadata": {
    "collapsed": false
   },
   "outputs": [
    {
     "name": "stdout",
     "output_type": "stream",
     "text": [
      "786\n",
      "785\n"
     ]
    }
   ],
   "source": [
    "# Next, we use Spark's VectorAssembler to \"assemble\" (create) a vector of all desired features.\n",
    "# http://spark.apache.org/docs/latest/ml-features.html#vectorassembler\n",
    "vector_assembler = VectorAssembler(inputCols=features, outputCol=\"features\")\n",
    "# This transformer will take all columns specified in features, and create an additional column \"features\" which will contain all the desired features aggregated into a single vector.\n",
    "dataset_train = vector_assembler.transform(raw_dataset_train)\n",
    "dataset_test = vector_assembler.transform(raw_dataset_test)\n",
    "\n",
    "print len(dataset_train.columns)\n",
    "print len(dataset_test.columns)"
   ]
  },
  {
   "cell_type": "markdown",
   "metadata": {},
   "source": [
    "Once we have the inputs for our Neural Network (features column) after applying the VectorAssembler, we should also define the outputs. Since we are dealing with a classification task, the output of our Neural Network should be a one-hot encoded vector with 10 elements. For this, we provide a `OneHotTransformer` which accomplish this exact task."
   ]
  },
  {
   "cell_type": "code",
   "execution_count": 37,
   "metadata": {
    "collapsed": false
   },
   "outputs": [
    {
     "ename": "Py4JJavaError",
     "evalue": "An error occurred while calling z:org.apache.spark.api.python.PythonRDD.runJob.\n: org.apache.spark.SparkException: Job aborted due to stage failure: Task 0 in stage 13.0 failed 1 times, most recent failure: Lost task 0.0 in stage 13.0 (TID 16, localhost, executor driver): org.apache.spark.api.python.PythonException: Traceback (most recent call last):\n  File \"/home/ubuntu/Download/spark-2.1.0/python/lib/pyspark.zip/pyspark/worker.py\", line 174, in main\n    process()\n  File \"/home/ubuntu/Download/spark-2.1.0/python/lib/pyspark.zip/pyspark/worker.py\", line 169, in process\n    serializer.dump_stream(func(split_index, iterator), outfile)\n  File \"/home/ubuntu/Download/spark-2.1.0/python/lib/pyspark.zip/pyspark/serializers.py\", line 268, in dump_stream\n    vs = list(itertools.islice(iterator, batch))\n  File \"/home/ubuntu/Download/spark-2.1.0/python/pyspark/rdd.py\", line 1339, in takeUpToNumLeft\n    yield next(iterator)\n  File \"/home/ubuntu/Download/dist-keras/distkeras/transformers.py\", line 285, in _transform\n    label = row[self.input_column]\n  File \"/home/ubuntu/Download/spark-2.1.0/python/lib/pyspark.zip/pyspark/sql/types.py\", line 1489, in __getitem__\n    raise ValueError(item)\nValueError: label\n\n\tat org.apache.spark.api.python.PythonRunner$$anon$1.read(PythonRDD.scala:193)\n\tat org.apache.spark.api.python.PythonRunner$$anon$1.<init>(PythonRDD.scala:234)\n\tat org.apache.spark.api.python.PythonRunner.compute(PythonRDD.scala:152)\n\tat org.apache.spark.api.python.PythonRDD.compute(PythonRDD.scala:63)\n\tat org.apache.spark.rdd.RDD.computeOrReadCheckpoint(RDD.scala:323)\n\tat org.apache.spark.rdd.RDD.iterator(RDD.scala:287)\n\tat org.apache.spark.scheduler.ResultTask.runTask(ResultTask.scala:87)\n\tat org.apache.spark.scheduler.Task.run(Task.scala:99)\n\tat org.apache.spark.executor.Executor$TaskRunner.run(Executor.scala:282)\n\tat java.util.concurrent.ThreadPoolExecutor.runWorker(ThreadPoolExecutor.java:1142)\n\tat java.util.concurrent.ThreadPoolExecutor$Worker.run(ThreadPoolExecutor.java:617)\n\tat java.lang.Thread.run(Thread.java:748)\n\nDriver stacktrace:\n\tat org.apache.spark.scheduler.DAGScheduler.org$apache$spark$scheduler$DAGScheduler$$failJobAndIndependentStages(DAGScheduler.scala:1435)\n\tat org.apache.spark.scheduler.DAGScheduler$$anonfun$abortStage$1.apply(DAGScheduler.scala:1423)\n\tat org.apache.spark.scheduler.DAGScheduler$$anonfun$abortStage$1.apply(DAGScheduler.scala:1422)\n\tat scala.collection.mutable.ResizableArray$class.foreach(ResizableArray.scala:59)\n\tat scala.collection.mutable.ArrayBuffer.foreach(ArrayBuffer.scala:48)\n\tat org.apache.spark.scheduler.DAGScheduler.abortStage(DAGScheduler.scala:1422)\n\tat org.apache.spark.scheduler.DAGScheduler$$anonfun$handleTaskSetFailed$1.apply(DAGScheduler.scala:802)\n\tat org.apache.spark.scheduler.DAGScheduler$$anonfun$handleTaskSetFailed$1.apply(DAGScheduler.scala:802)\n\tat scala.Option.foreach(Option.scala:257)\n\tat org.apache.spark.scheduler.DAGScheduler.handleTaskSetFailed(DAGScheduler.scala:802)\n\tat org.apache.spark.scheduler.DAGSchedulerEventProcessLoop.doOnReceive(DAGScheduler.scala:1650)\n\tat org.apache.spark.scheduler.DAGSchedulerEventProcessLoop.onReceive(DAGScheduler.scala:1605)\n\tat org.apache.spark.scheduler.DAGSchedulerEventProcessLoop.onReceive(DAGScheduler.scala:1594)\n\tat org.apache.spark.util.EventLoop$$anon$1.run(EventLoop.scala:48)\n\tat org.apache.spark.scheduler.DAGScheduler.runJob(DAGScheduler.scala:628)\n\tat org.apache.spark.SparkContext.runJob(SparkContext.scala:1918)\n\tat org.apache.spark.SparkContext.runJob(SparkContext.scala:1931)\n\tat org.apache.spark.SparkContext.runJob(SparkContext.scala:1944)\n\tat org.apache.spark.api.python.PythonRDD$.runJob(PythonRDD.scala:441)\n\tat org.apache.spark.api.python.PythonRDD.runJob(PythonRDD.scala)\n\tat sun.reflect.NativeMethodAccessorImpl.invoke0(Native Method)\n\tat sun.reflect.NativeMethodAccessorImpl.invoke(NativeMethodAccessorImpl.java:62)\n\tat sun.reflect.DelegatingMethodAccessorImpl.invoke(DelegatingMethodAccessorImpl.java:43)\n\tat java.lang.reflect.Method.invoke(Method.java:498)\n\tat py4j.reflection.MethodInvoker.invoke(MethodInvoker.java:244)\n\tat py4j.reflection.ReflectionEngine.invoke(ReflectionEngine.java:357)\n\tat py4j.Gateway.invoke(Gateway.java:280)\n\tat py4j.commands.AbstractCommand.invokeMethod(AbstractCommand.java:132)\n\tat py4j.commands.CallCommand.execute(CallCommand.java:79)\n\tat py4j.GatewayConnection.run(GatewayConnection.java:214)\n\tat java.lang.Thread.run(Thread.java:748)\nCaused by: org.apache.spark.api.python.PythonException: Traceback (most recent call last):\n  File \"/home/ubuntu/Download/spark-2.1.0/python/lib/pyspark.zip/pyspark/worker.py\", line 174, in main\n    process()\n  File \"/home/ubuntu/Download/spark-2.1.0/python/lib/pyspark.zip/pyspark/worker.py\", line 169, in process\n    serializer.dump_stream(func(split_index, iterator), outfile)\n  File \"/home/ubuntu/Download/spark-2.1.0/python/lib/pyspark.zip/pyspark/serializers.py\", line 268, in dump_stream\n    vs = list(itertools.islice(iterator, batch))\n  File \"/home/ubuntu/Download/spark-2.1.0/python/pyspark/rdd.py\", line 1339, in takeUpToNumLeft\n    yield next(iterator)\n  File \"/home/ubuntu/Download/dist-keras/distkeras/transformers.py\", line 285, in _transform\n    label = row[self.input_column]\n  File \"/home/ubuntu/Download/spark-2.1.0/python/lib/pyspark.zip/pyspark/sql/types.py\", line 1489, in __getitem__\n    raise ValueError(item)\nValueError: label\n\n\tat org.apache.spark.api.python.PythonRunner$$anon$1.read(PythonRDD.scala:193)\n\tat org.apache.spark.api.python.PythonRunner$$anon$1.<init>(PythonRDD.scala:234)\n\tat org.apache.spark.api.python.PythonRunner.compute(PythonRDD.scala:152)\n\tat org.apache.spark.api.python.PythonRDD.compute(PythonRDD.scala:63)\n\tat org.apache.spark.rdd.RDD.computeOrReadCheckpoint(RDD.scala:323)\n\tat org.apache.spark.rdd.RDD.iterator(RDD.scala:287)\n\tat org.apache.spark.scheduler.ResultTask.runTask(ResultTask.scala:87)\n\tat org.apache.spark.scheduler.Task.run(Task.scala:99)\n\tat org.apache.spark.executor.Executor$TaskRunner.run(Executor.scala:282)\n\tat java.util.concurrent.ThreadPoolExecutor.runWorker(ThreadPoolExecutor.java:1142)\n\tat java.util.concurrent.ThreadPoolExecutor$Worker.run(ThreadPoolExecutor.java:617)\n\t... 1 more\n",
     "output_type": "error",
     "traceback": [
      "\u001b[0;31m\u001b[0m",
      "\u001b[0;31mPy4JJavaError\u001b[0mTraceback (most recent call last)",
      "\u001b[0;32m<ipython-input-37-4025e102d781>\u001b[0m in \u001b[0;36m<module>\u001b[0;34m()\u001b[0m\n\u001b[1;32m      2\u001b[0m \u001b[0mnb_classes\u001b[0m \u001b[0;34m=\u001b[0m \u001b[0;36m10\u001b[0m\u001b[0;34m\u001b[0m\u001b[0m\n\u001b[1;32m      3\u001b[0m \u001b[0mencoder\u001b[0m \u001b[0;34m=\u001b[0m \u001b[0mOneHotTransformer\u001b[0m\u001b[0;34m(\u001b[0m\u001b[0mnb_classes\u001b[0m\u001b[0;34m,\u001b[0m \u001b[0minput_col\u001b[0m\u001b[0;34m=\u001b[0m\u001b[0;34m\"label\"\u001b[0m\u001b[0;34m,\u001b[0m \u001b[0moutput_col\u001b[0m\u001b[0;34m=\u001b[0m\u001b[0;34m\"label_encoded\"\u001b[0m\u001b[0;34m)\u001b[0m\u001b[0;34m\u001b[0m\u001b[0m\n\u001b[0;32m----> 4\u001b[0;31m \u001b[0mdataset_train\u001b[0m \u001b[0;34m=\u001b[0m \u001b[0mencoder\u001b[0m\u001b[0;34m.\u001b[0m\u001b[0mtransform\u001b[0m\u001b[0;34m(\u001b[0m\u001b[0mdataset_train\u001b[0m\u001b[0;34m)\u001b[0m\u001b[0;34m\u001b[0m\u001b[0m\n\u001b[0m\u001b[1;32m      5\u001b[0m \u001b[0mdataset_test\u001b[0m \u001b[0;34m=\u001b[0m \u001b[0mencoder\u001b[0m\u001b[0;34m.\u001b[0m\u001b[0mtransform\u001b[0m\u001b[0;34m(\u001b[0m\u001b[0mdataset_test\u001b[0m\u001b[0;34m)\u001b[0m\u001b[0;34m\u001b[0m\u001b[0m\n",
      "\u001b[0;32m/home/ubuntu/Download/dist-keras/distkeras/transformers.pyc\u001b[0m in \u001b[0;36mtransform\u001b[0;34m(self, dataframe)\u001b[0m\n\u001b[1;32m    297\u001b[0m             \u001b[0mA\u001b[0m \u001b[0mSpark\u001b[0m \u001b[0mDataframe\u001b[0m \u001b[0;32mwith\u001b[0m \u001b[0mone\u001b[0m\u001b[0;34m-\u001b[0m\u001b[0mhot\u001b[0m \u001b[0mencoded\u001b[0m \u001b[0mfeatures\u001b[0m\u001b[0;34m.\u001b[0m\u001b[0;34m\u001b[0m\u001b[0m\n\u001b[1;32m    298\u001b[0m         \"\"\"\n\u001b[0;32m--> 299\u001b[0;31m         \u001b[0;32mreturn\u001b[0m \u001b[0mdataframe\u001b[0m\u001b[0;34m.\u001b[0m\u001b[0mrdd\u001b[0m\u001b[0;34m.\u001b[0m\u001b[0mmap\u001b[0m\u001b[0;34m(\u001b[0m\u001b[0mself\u001b[0m\u001b[0;34m.\u001b[0m\u001b[0m_transform\u001b[0m\u001b[0;34m)\u001b[0m\u001b[0;34m.\u001b[0m\u001b[0mtoDF\u001b[0m\u001b[0;34m(\u001b[0m\u001b[0;34m)\u001b[0m\u001b[0;34m\u001b[0m\u001b[0m\n\u001b[0m\u001b[1;32m    300\u001b[0m \u001b[0;34m\u001b[0m\u001b[0m\n\u001b[1;32m    301\u001b[0m \u001b[0;34m\u001b[0m\u001b[0m\n",
      "\u001b[0;32m/home/ubuntu/Download/spark-2.1.0/python/pyspark/sql/session.pyc\u001b[0m in \u001b[0;36mtoDF\u001b[0;34m(self, schema, sampleRatio)\u001b[0m\n\u001b[1;32m     55\u001b[0m         \u001b[0;34m[\u001b[0m\u001b[0mRow\u001b[0m\u001b[0;34m(\u001b[0m\u001b[0mname\u001b[0m\u001b[0;34m=\u001b[0m\u001b[0;34mu'Alice'\u001b[0m\u001b[0;34m,\u001b[0m \u001b[0mage\u001b[0m\u001b[0;34m=\u001b[0m\u001b[0;36m1\u001b[0m\u001b[0;34m)\u001b[0m\u001b[0;34m]\u001b[0m\u001b[0;34m\u001b[0m\u001b[0m\n\u001b[1;32m     56\u001b[0m         \"\"\"\n\u001b[0;32m---> 57\u001b[0;31m         \u001b[0;32mreturn\u001b[0m \u001b[0msparkSession\u001b[0m\u001b[0;34m.\u001b[0m\u001b[0mcreateDataFrame\u001b[0m\u001b[0;34m(\u001b[0m\u001b[0mself\u001b[0m\u001b[0;34m,\u001b[0m \u001b[0mschema\u001b[0m\u001b[0;34m,\u001b[0m \u001b[0msampleRatio\u001b[0m\u001b[0;34m)\u001b[0m\u001b[0;34m\u001b[0m\u001b[0m\n\u001b[0m\u001b[1;32m     58\u001b[0m \u001b[0;34m\u001b[0m\u001b[0m\n\u001b[1;32m     59\u001b[0m     \u001b[0mRDD\u001b[0m\u001b[0;34m.\u001b[0m\u001b[0mtoDF\u001b[0m \u001b[0;34m=\u001b[0m \u001b[0mtoDF\u001b[0m\u001b[0;34m\u001b[0m\u001b[0m\n",
      "\u001b[0;32m/home/ubuntu/Download/spark-2.1.0/python/pyspark/sql/session.pyc\u001b[0m in \u001b[0;36mcreateDataFrame\u001b[0;34m(self, data, schema, samplingRatio, verifySchema)\u001b[0m\n\u001b[1;32m    518\u001b[0m \u001b[0;34m\u001b[0m\u001b[0m\n\u001b[1;32m    519\u001b[0m         \u001b[0;32mif\u001b[0m \u001b[0misinstance\u001b[0m\u001b[0;34m(\u001b[0m\u001b[0mdata\u001b[0m\u001b[0;34m,\u001b[0m \u001b[0mRDD\u001b[0m\u001b[0;34m)\u001b[0m\u001b[0;34m:\u001b[0m\u001b[0;34m\u001b[0m\u001b[0m\n\u001b[0;32m--> 520\u001b[0;31m             \u001b[0mrdd\u001b[0m\u001b[0;34m,\u001b[0m \u001b[0mschema\u001b[0m \u001b[0;34m=\u001b[0m \u001b[0mself\u001b[0m\u001b[0;34m.\u001b[0m\u001b[0m_createFromRDD\u001b[0m\u001b[0;34m(\u001b[0m\u001b[0mdata\u001b[0m\u001b[0;34m.\u001b[0m\u001b[0mmap\u001b[0m\u001b[0;34m(\u001b[0m\u001b[0mprepare\u001b[0m\u001b[0;34m)\u001b[0m\u001b[0;34m,\u001b[0m \u001b[0mschema\u001b[0m\u001b[0;34m,\u001b[0m \u001b[0msamplingRatio\u001b[0m\u001b[0;34m)\u001b[0m\u001b[0;34m\u001b[0m\u001b[0m\n\u001b[0m\u001b[1;32m    521\u001b[0m         \u001b[0;32melse\u001b[0m\u001b[0;34m:\u001b[0m\u001b[0;34m\u001b[0m\u001b[0m\n\u001b[1;32m    522\u001b[0m             \u001b[0mrdd\u001b[0m\u001b[0;34m,\u001b[0m \u001b[0mschema\u001b[0m \u001b[0;34m=\u001b[0m \u001b[0mself\u001b[0m\u001b[0;34m.\u001b[0m\u001b[0m_createFromLocal\u001b[0m\u001b[0;34m(\u001b[0m\u001b[0mmap\u001b[0m\u001b[0;34m(\u001b[0m\u001b[0mprepare\u001b[0m\u001b[0;34m,\u001b[0m \u001b[0mdata\u001b[0m\u001b[0;34m)\u001b[0m\u001b[0;34m,\u001b[0m \u001b[0mschema\u001b[0m\u001b[0;34m)\u001b[0m\u001b[0;34m\u001b[0m\u001b[0m\n",
      "\u001b[0;32m/home/ubuntu/Download/spark-2.1.0/python/pyspark/sql/session.pyc\u001b[0m in \u001b[0;36m_createFromRDD\u001b[0;34m(self, rdd, schema, samplingRatio)\u001b[0m\n\u001b[1;32m    358\u001b[0m         \"\"\"\n\u001b[1;32m    359\u001b[0m         \u001b[0;32mif\u001b[0m \u001b[0mschema\u001b[0m \u001b[0;32mis\u001b[0m \u001b[0mNone\u001b[0m \u001b[0;32mor\u001b[0m \u001b[0misinstance\u001b[0m\u001b[0;34m(\u001b[0m\u001b[0mschema\u001b[0m\u001b[0;34m,\u001b[0m \u001b[0;34m(\u001b[0m\u001b[0mlist\u001b[0m\u001b[0;34m,\u001b[0m \u001b[0mtuple\u001b[0m\u001b[0;34m)\u001b[0m\u001b[0;34m)\u001b[0m\u001b[0;34m:\u001b[0m\u001b[0;34m\u001b[0m\u001b[0m\n\u001b[0;32m--> 360\u001b[0;31m             \u001b[0mstruct\u001b[0m \u001b[0;34m=\u001b[0m \u001b[0mself\u001b[0m\u001b[0;34m.\u001b[0m\u001b[0m_inferSchema\u001b[0m\u001b[0;34m(\u001b[0m\u001b[0mrdd\u001b[0m\u001b[0;34m,\u001b[0m \u001b[0msamplingRatio\u001b[0m\u001b[0;34m)\u001b[0m\u001b[0;34m\u001b[0m\u001b[0m\n\u001b[0m\u001b[1;32m    361\u001b[0m             \u001b[0mconverter\u001b[0m \u001b[0;34m=\u001b[0m \u001b[0m_create_converter\u001b[0m\u001b[0;34m(\u001b[0m\u001b[0mstruct\u001b[0m\u001b[0;34m)\u001b[0m\u001b[0;34m\u001b[0m\u001b[0m\n\u001b[1;32m    362\u001b[0m             \u001b[0mrdd\u001b[0m \u001b[0;34m=\u001b[0m \u001b[0mrdd\u001b[0m\u001b[0;34m.\u001b[0m\u001b[0mmap\u001b[0m\u001b[0;34m(\u001b[0m\u001b[0mconverter\u001b[0m\u001b[0;34m)\u001b[0m\u001b[0;34m\u001b[0m\u001b[0m\n",
      "\u001b[0;32m/home/ubuntu/Download/spark-2.1.0/python/pyspark/sql/session.pyc\u001b[0m in \u001b[0;36m_inferSchema\u001b[0;34m(self, rdd, samplingRatio)\u001b[0m\n\u001b[1;32m    329\u001b[0m         \u001b[0;34m:\u001b[0m\u001b[0;32mreturn\u001b[0m\u001b[0;34m:\u001b[0m \u001b[0;34m:\u001b[0m\u001b[0;32mclass\u001b[0m\u001b[0;34m:\u001b[0m\u001b[0;34m`\u001b[0m\u001b[0mpyspark\u001b[0m\u001b[0;34m.\u001b[0m\u001b[0msql\u001b[0m\u001b[0;34m.\u001b[0m\u001b[0mtypes\u001b[0m\u001b[0;34m.\u001b[0m\u001b[0mStructType\u001b[0m\u001b[0;34m`\u001b[0m\u001b[0;34m\u001b[0m\u001b[0m\n\u001b[1;32m    330\u001b[0m         \"\"\"\n\u001b[0;32m--> 331\u001b[0;31m         \u001b[0mfirst\u001b[0m \u001b[0;34m=\u001b[0m \u001b[0mrdd\u001b[0m\u001b[0;34m.\u001b[0m\u001b[0mfirst\u001b[0m\u001b[0;34m(\u001b[0m\u001b[0;34m)\u001b[0m\u001b[0;34m\u001b[0m\u001b[0m\n\u001b[0m\u001b[1;32m    332\u001b[0m         \u001b[0;32mif\u001b[0m \u001b[0;32mnot\u001b[0m \u001b[0mfirst\u001b[0m\u001b[0;34m:\u001b[0m\u001b[0;34m\u001b[0m\u001b[0m\n\u001b[1;32m    333\u001b[0m             raise ValueError(\"The first row in RDD is empty, \"\n",
      "\u001b[0;32m/home/ubuntu/Download/spark-2.1.0/python/pyspark/rdd.pyc\u001b[0m in \u001b[0;36mfirst\u001b[0;34m(self)\u001b[0m\n\u001b[1;32m   1359\u001b[0m         \u001b[0mValueError\u001b[0m\u001b[0;34m:\u001b[0m \u001b[0mRDD\u001b[0m \u001b[0;32mis\u001b[0m \u001b[0mempty\u001b[0m\u001b[0;34m\u001b[0m\u001b[0m\n\u001b[1;32m   1360\u001b[0m         \"\"\"\n\u001b[0;32m-> 1361\u001b[0;31m         \u001b[0mrs\u001b[0m \u001b[0;34m=\u001b[0m \u001b[0mself\u001b[0m\u001b[0;34m.\u001b[0m\u001b[0mtake\u001b[0m\u001b[0;34m(\u001b[0m\u001b[0;36m1\u001b[0m\u001b[0;34m)\u001b[0m\u001b[0;34m\u001b[0m\u001b[0m\n\u001b[0m\u001b[1;32m   1362\u001b[0m         \u001b[0;32mif\u001b[0m \u001b[0mrs\u001b[0m\u001b[0;34m:\u001b[0m\u001b[0;34m\u001b[0m\u001b[0m\n\u001b[1;32m   1363\u001b[0m             \u001b[0;32mreturn\u001b[0m \u001b[0mrs\u001b[0m\u001b[0;34m[\u001b[0m\u001b[0;36m0\u001b[0m\u001b[0;34m]\u001b[0m\u001b[0;34m\u001b[0m\u001b[0m\n",
      "\u001b[0;32m/home/ubuntu/Download/spark-2.1.0/python/pyspark/rdd.pyc\u001b[0m in \u001b[0;36mtake\u001b[0;34m(self, num)\u001b[0m\n\u001b[1;32m   1341\u001b[0m \u001b[0;34m\u001b[0m\u001b[0m\n\u001b[1;32m   1342\u001b[0m             \u001b[0mp\u001b[0m \u001b[0;34m=\u001b[0m \u001b[0mrange\u001b[0m\u001b[0;34m(\u001b[0m\u001b[0mpartsScanned\u001b[0m\u001b[0;34m,\u001b[0m \u001b[0mmin\u001b[0m\u001b[0;34m(\u001b[0m\u001b[0mpartsScanned\u001b[0m \u001b[0;34m+\u001b[0m \u001b[0mnumPartsToTry\u001b[0m\u001b[0;34m,\u001b[0m \u001b[0mtotalParts\u001b[0m\u001b[0;34m)\u001b[0m\u001b[0;34m)\u001b[0m\u001b[0;34m\u001b[0m\u001b[0m\n\u001b[0;32m-> 1343\u001b[0;31m             \u001b[0mres\u001b[0m \u001b[0;34m=\u001b[0m \u001b[0mself\u001b[0m\u001b[0;34m.\u001b[0m\u001b[0mcontext\u001b[0m\u001b[0;34m.\u001b[0m\u001b[0mrunJob\u001b[0m\u001b[0;34m(\u001b[0m\u001b[0mself\u001b[0m\u001b[0;34m,\u001b[0m \u001b[0mtakeUpToNumLeft\u001b[0m\u001b[0;34m,\u001b[0m \u001b[0mp\u001b[0m\u001b[0;34m)\u001b[0m\u001b[0;34m\u001b[0m\u001b[0m\n\u001b[0m\u001b[1;32m   1344\u001b[0m \u001b[0;34m\u001b[0m\u001b[0m\n\u001b[1;32m   1345\u001b[0m             \u001b[0mitems\u001b[0m \u001b[0;34m+=\u001b[0m \u001b[0mres\u001b[0m\u001b[0;34m\u001b[0m\u001b[0m\n",
      "\u001b[0;32m/home/ubuntu/Download/spark-2.1.0/python/pyspark/context.pyc\u001b[0m in \u001b[0;36mrunJob\u001b[0;34m(self, rdd, partitionFunc, partitions, allowLocal)\u001b[0m\n\u001b[1;32m    963\u001b[0m         \u001b[0;31m# SparkContext#runJob.\u001b[0m\u001b[0;34m\u001b[0m\u001b[0;34m\u001b[0m\u001b[0m\n\u001b[1;32m    964\u001b[0m         \u001b[0mmappedRDD\u001b[0m \u001b[0;34m=\u001b[0m \u001b[0mrdd\u001b[0m\u001b[0;34m.\u001b[0m\u001b[0mmapPartitions\u001b[0m\u001b[0;34m(\u001b[0m\u001b[0mpartitionFunc\u001b[0m\u001b[0;34m)\u001b[0m\u001b[0;34m\u001b[0m\u001b[0m\n\u001b[0;32m--> 965\u001b[0;31m         \u001b[0mport\u001b[0m \u001b[0;34m=\u001b[0m \u001b[0mself\u001b[0m\u001b[0;34m.\u001b[0m\u001b[0m_jvm\u001b[0m\u001b[0;34m.\u001b[0m\u001b[0mPythonRDD\u001b[0m\u001b[0;34m.\u001b[0m\u001b[0mrunJob\u001b[0m\u001b[0;34m(\u001b[0m\u001b[0mself\u001b[0m\u001b[0;34m.\u001b[0m\u001b[0m_jsc\u001b[0m\u001b[0;34m.\u001b[0m\u001b[0msc\u001b[0m\u001b[0;34m(\u001b[0m\u001b[0;34m)\u001b[0m\u001b[0;34m,\u001b[0m \u001b[0mmappedRDD\u001b[0m\u001b[0;34m.\u001b[0m\u001b[0m_jrdd\u001b[0m\u001b[0;34m,\u001b[0m \u001b[0mpartitions\u001b[0m\u001b[0;34m)\u001b[0m\u001b[0;34m\u001b[0m\u001b[0m\n\u001b[0m\u001b[1;32m    966\u001b[0m         \u001b[0;32mreturn\u001b[0m \u001b[0mlist\u001b[0m\u001b[0;34m(\u001b[0m\u001b[0m_load_from_socket\u001b[0m\u001b[0;34m(\u001b[0m\u001b[0mport\u001b[0m\u001b[0;34m,\u001b[0m \u001b[0mmappedRDD\u001b[0m\u001b[0;34m.\u001b[0m\u001b[0m_jrdd_deserializer\u001b[0m\u001b[0;34m)\u001b[0m\u001b[0;34m)\u001b[0m\u001b[0;34m\u001b[0m\u001b[0m\n\u001b[1;32m    967\u001b[0m \u001b[0;34m\u001b[0m\u001b[0m\n",
      "\u001b[0;32m/home/ubuntu/Download/spark-2.1.0/python/lib/py4j-0.10.4-src.zip/py4j/java_gateway.py\u001b[0m in \u001b[0;36m__call__\u001b[0;34m(self, *args)\u001b[0m\n\u001b[1;32m   1131\u001b[0m         \u001b[0manswer\u001b[0m \u001b[0;34m=\u001b[0m \u001b[0mself\u001b[0m\u001b[0;34m.\u001b[0m\u001b[0mgateway_client\u001b[0m\u001b[0;34m.\u001b[0m\u001b[0msend_command\u001b[0m\u001b[0;34m(\u001b[0m\u001b[0mcommand\u001b[0m\u001b[0;34m)\u001b[0m\u001b[0;34m\u001b[0m\u001b[0m\n\u001b[1;32m   1132\u001b[0m         return_value = get_return_value(\n\u001b[0;32m-> 1133\u001b[0;31m             answer, self.gateway_client, self.target_id, self.name)\n\u001b[0m\u001b[1;32m   1134\u001b[0m \u001b[0;34m\u001b[0m\u001b[0m\n\u001b[1;32m   1135\u001b[0m         \u001b[0;32mfor\u001b[0m \u001b[0mtemp_arg\u001b[0m \u001b[0;32min\u001b[0m \u001b[0mtemp_args\u001b[0m\u001b[0;34m:\u001b[0m\u001b[0;34m\u001b[0m\u001b[0m\n",
      "\u001b[0;32m/home/ubuntu/Download/spark-2.1.0/python/pyspark/sql/utils.pyc\u001b[0m in \u001b[0;36mdeco\u001b[0;34m(*a, **kw)\u001b[0m\n\u001b[1;32m     61\u001b[0m     \u001b[0;32mdef\u001b[0m \u001b[0mdeco\u001b[0m\u001b[0;34m(\u001b[0m\u001b[0;34m*\u001b[0m\u001b[0ma\u001b[0m\u001b[0;34m,\u001b[0m \u001b[0;34m**\u001b[0m\u001b[0mkw\u001b[0m\u001b[0;34m)\u001b[0m\u001b[0;34m:\u001b[0m\u001b[0;34m\u001b[0m\u001b[0m\n\u001b[1;32m     62\u001b[0m         \u001b[0;32mtry\u001b[0m\u001b[0;34m:\u001b[0m\u001b[0;34m\u001b[0m\u001b[0m\n\u001b[0;32m---> 63\u001b[0;31m             \u001b[0;32mreturn\u001b[0m \u001b[0mf\u001b[0m\u001b[0;34m(\u001b[0m\u001b[0;34m*\u001b[0m\u001b[0ma\u001b[0m\u001b[0;34m,\u001b[0m \u001b[0;34m**\u001b[0m\u001b[0mkw\u001b[0m\u001b[0;34m)\u001b[0m\u001b[0;34m\u001b[0m\u001b[0m\n\u001b[0m\u001b[1;32m     64\u001b[0m         \u001b[0;32mexcept\u001b[0m \u001b[0mpy4j\u001b[0m\u001b[0;34m.\u001b[0m\u001b[0mprotocol\u001b[0m\u001b[0;34m.\u001b[0m\u001b[0mPy4JJavaError\u001b[0m \u001b[0;32mas\u001b[0m \u001b[0me\u001b[0m\u001b[0;34m:\u001b[0m\u001b[0;34m\u001b[0m\u001b[0m\n\u001b[1;32m     65\u001b[0m             \u001b[0ms\u001b[0m \u001b[0;34m=\u001b[0m \u001b[0me\u001b[0m\u001b[0;34m.\u001b[0m\u001b[0mjava_exception\u001b[0m\u001b[0;34m.\u001b[0m\u001b[0mtoString\u001b[0m\u001b[0;34m(\u001b[0m\u001b[0;34m)\u001b[0m\u001b[0;34m\u001b[0m\u001b[0m\n",
      "\u001b[0;32m/home/ubuntu/Download/spark-2.1.0/python/lib/py4j-0.10.4-src.zip/py4j/protocol.py\u001b[0m in \u001b[0;36mget_return_value\u001b[0;34m(answer, gateway_client, target_id, name)\u001b[0m\n\u001b[1;32m    317\u001b[0m                 raise Py4JJavaError(\n\u001b[1;32m    318\u001b[0m                     \u001b[0;34m\"An error occurred while calling {0}{1}{2}.\\n\"\u001b[0m\u001b[0;34m.\u001b[0m\u001b[0;34m\u001b[0m\u001b[0m\n\u001b[0;32m--> 319\u001b[0;31m                     format(target_id, \".\", name), value)\n\u001b[0m\u001b[1;32m    320\u001b[0m             \u001b[0;32melse\u001b[0m\u001b[0;34m:\u001b[0m\u001b[0;34m\u001b[0m\u001b[0m\n\u001b[1;32m    321\u001b[0m                 raise Py4JError(\n",
      "\u001b[0;31mPy4JJavaError\u001b[0m: An error occurred while calling z:org.apache.spark.api.python.PythonRDD.runJob.\n: org.apache.spark.SparkException: Job aborted due to stage failure: Task 0 in stage 13.0 failed 1 times, most recent failure: Lost task 0.0 in stage 13.0 (TID 16, localhost, executor driver): org.apache.spark.api.python.PythonException: Traceback (most recent call last):\n  File \"/home/ubuntu/Download/spark-2.1.0/python/lib/pyspark.zip/pyspark/worker.py\", line 174, in main\n    process()\n  File \"/home/ubuntu/Download/spark-2.1.0/python/lib/pyspark.zip/pyspark/worker.py\", line 169, in process\n    serializer.dump_stream(func(split_index, iterator), outfile)\n  File \"/home/ubuntu/Download/spark-2.1.0/python/lib/pyspark.zip/pyspark/serializers.py\", line 268, in dump_stream\n    vs = list(itertools.islice(iterator, batch))\n  File \"/home/ubuntu/Download/spark-2.1.0/python/pyspark/rdd.py\", line 1339, in takeUpToNumLeft\n    yield next(iterator)\n  File \"/home/ubuntu/Download/dist-keras/distkeras/transformers.py\", line 285, in _transform\n    label = row[self.input_column]\n  File \"/home/ubuntu/Download/spark-2.1.0/python/lib/pyspark.zip/pyspark/sql/types.py\", line 1489, in __getitem__\n    raise ValueError(item)\nValueError: label\n\n\tat org.apache.spark.api.python.PythonRunner$$anon$1.read(PythonRDD.scala:193)\n\tat org.apache.spark.api.python.PythonRunner$$anon$1.<init>(PythonRDD.scala:234)\n\tat org.apache.spark.api.python.PythonRunner.compute(PythonRDD.scala:152)\n\tat org.apache.spark.api.python.PythonRDD.compute(PythonRDD.scala:63)\n\tat org.apache.spark.rdd.RDD.computeOrReadCheckpoint(RDD.scala:323)\n\tat org.apache.spark.rdd.RDD.iterator(RDD.scala:287)\n\tat org.apache.spark.scheduler.ResultTask.runTask(ResultTask.scala:87)\n\tat org.apache.spark.scheduler.Task.run(Task.scala:99)\n\tat org.apache.spark.executor.Executor$TaskRunner.run(Executor.scala:282)\n\tat java.util.concurrent.ThreadPoolExecutor.runWorker(ThreadPoolExecutor.java:1142)\n\tat java.util.concurrent.ThreadPoolExecutor$Worker.run(ThreadPoolExecutor.java:617)\n\tat java.lang.Thread.run(Thread.java:748)\n\nDriver stacktrace:\n\tat org.apache.spark.scheduler.DAGScheduler.org$apache$spark$scheduler$DAGScheduler$$failJobAndIndependentStages(DAGScheduler.scala:1435)\n\tat org.apache.spark.scheduler.DAGScheduler$$anonfun$abortStage$1.apply(DAGScheduler.scala:1423)\n\tat org.apache.spark.scheduler.DAGScheduler$$anonfun$abortStage$1.apply(DAGScheduler.scala:1422)\n\tat scala.collection.mutable.ResizableArray$class.foreach(ResizableArray.scala:59)\n\tat scala.collection.mutable.ArrayBuffer.foreach(ArrayBuffer.scala:48)\n\tat org.apache.spark.scheduler.DAGScheduler.abortStage(DAGScheduler.scala:1422)\n\tat org.apache.spark.scheduler.DAGScheduler$$anonfun$handleTaskSetFailed$1.apply(DAGScheduler.scala:802)\n\tat org.apache.spark.scheduler.DAGScheduler$$anonfun$handleTaskSetFailed$1.apply(DAGScheduler.scala:802)\n\tat scala.Option.foreach(Option.scala:257)\n\tat org.apache.spark.scheduler.DAGScheduler.handleTaskSetFailed(DAGScheduler.scala:802)\n\tat org.apache.spark.scheduler.DAGSchedulerEventProcessLoop.doOnReceive(DAGScheduler.scala:1650)\n\tat org.apache.spark.scheduler.DAGSchedulerEventProcessLoop.onReceive(DAGScheduler.scala:1605)\n\tat org.apache.spark.scheduler.DAGSchedulerEventProcessLoop.onReceive(DAGScheduler.scala:1594)\n\tat org.apache.spark.util.EventLoop$$anon$1.run(EventLoop.scala:48)\n\tat org.apache.spark.scheduler.DAGScheduler.runJob(DAGScheduler.scala:628)\n\tat org.apache.spark.SparkContext.runJob(SparkContext.scala:1918)\n\tat org.apache.spark.SparkContext.runJob(SparkContext.scala:1931)\n\tat org.apache.spark.SparkContext.runJob(SparkContext.scala:1944)\n\tat org.apache.spark.api.python.PythonRDD$.runJob(PythonRDD.scala:441)\n\tat org.apache.spark.api.python.PythonRDD.runJob(PythonRDD.scala)\n\tat sun.reflect.NativeMethodAccessorImpl.invoke0(Native Method)\n\tat sun.reflect.NativeMethodAccessorImpl.invoke(NativeMethodAccessorImpl.java:62)\n\tat sun.reflect.DelegatingMethodAccessorImpl.invoke(DelegatingMethodAccessorImpl.java:43)\n\tat java.lang.reflect.Method.invoke(Method.java:498)\n\tat py4j.reflection.MethodInvoker.invoke(MethodInvoker.java:244)\n\tat py4j.reflection.ReflectionEngine.invoke(ReflectionEngine.java:357)\n\tat py4j.Gateway.invoke(Gateway.java:280)\n\tat py4j.commands.AbstractCommand.invokeMethod(AbstractCommand.java:132)\n\tat py4j.commands.CallCommand.execute(CallCommand.java:79)\n\tat py4j.GatewayConnection.run(GatewayConnection.java:214)\n\tat java.lang.Thread.run(Thread.java:748)\nCaused by: org.apache.spark.api.python.PythonException: Traceback (most recent call last):\n  File \"/home/ubuntu/Download/spark-2.1.0/python/lib/pyspark.zip/pyspark/worker.py\", line 174, in main\n    process()\n  File \"/home/ubuntu/Download/spark-2.1.0/python/lib/pyspark.zip/pyspark/worker.py\", line 169, in process\n    serializer.dump_stream(func(split_index, iterator), outfile)\n  File \"/home/ubuntu/Download/spark-2.1.0/python/lib/pyspark.zip/pyspark/serializers.py\", line 268, in dump_stream\n    vs = list(itertools.islice(iterator, batch))\n  File \"/home/ubuntu/Download/spark-2.1.0/python/pyspark/rdd.py\", line 1339, in takeUpToNumLeft\n    yield next(iterator)\n  File \"/home/ubuntu/Download/dist-keras/distkeras/transformers.py\", line 285, in _transform\n    label = row[self.input_column]\n  File \"/home/ubuntu/Download/spark-2.1.0/python/lib/pyspark.zip/pyspark/sql/types.py\", line 1489, in __getitem__\n    raise ValueError(item)\nValueError: label\n\n\tat org.apache.spark.api.python.PythonRunner$$anon$1.read(PythonRDD.scala:193)\n\tat org.apache.spark.api.python.PythonRunner$$anon$1.<init>(PythonRDD.scala:234)\n\tat org.apache.spark.api.python.PythonRunner.compute(PythonRDD.scala:152)\n\tat org.apache.spark.api.python.PythonRDD.compute(PythonRDD.scala:63)\n\tat org.apache.spark.rdd.RDD.computeOrReadCheckpoint(RDD.scala:323)\n\tat org.apache.spark.rdd.RDD.iterator(RDD.scala:287)\n\tat org.apache.spark.scheduler.ResultTask.runTask(ResultTask.scala:87)\n\tat org.apache.spark.scheduler.Task.run(Task.scala:99)\n\tat org.apache.spark.executor.Executor$TaskRunner.run(Executor.scala:282)\n\tat java.util.concurrent.ThreadPoolExecutor.runWorker(ThreadPoolExecutor.java:1142)\n\tat java.util.concurrent.ThreadPoolExecutor$Worker.run(ThreadPoolExecutor.java:617)\n\t... 1 more\n"
     ]
    }
   ],
   "source": [
    "# Define the number of output classes.\n",
    "nb_classes = 10\n",
    "encoder = OneHotTransformer(nb_classes, input_col=\"label\", output_col=\"label_encoded\")\n",
    "dataset_train = encoder.transform(dataset_train)\n",
    "dataset_test = encoder.transform(dataset_test)"
   ]
  },
  {
   "cell_type": "markdown",
   "metadata": {},
   "source": [
    "## MNIST\n",
    "\n",
    "[MNIST](http://yann.lecun.com/exdb/mnist/) is a dataset of handwritten digits. Every image is a 28 by 28 pixel grayscale image. This means that every pixel has a value between 0 and 255. Some examples of instances within this dataset are shown in the cells below."
   ]
  },
  {
   "cell_type": "code",
   "execution_count": null,
   "metadata": {
    "collapsed": true
   },
   "outputs": [],
   "source": [
    "def show_instances(column):\n",
    "    global dataset\n",
    "\n",
    "    num_instances = 6 # Number of instances you would like to draw.\n",
    "    x_dimension   = 3 # Number of images to draw on the x-axis.\n",
    "    y_dimension   = 2 # Number of images to draw on the y-axis.\n",
    "\n",
    "    # Fetch 3 different instance from the dataset.\n",
    "    instances = dataset_train.select(column).take(num_instances)\n",
    "    # Process the instances.\n",
    "    for i in range(0, num_instances):\n",
    "        instance = instances[i]\n",
    "        instance = instance[column].toArray().reshape((28, 28))\n",
    "        instances[i] = instance\n",
    "\n",
    "    # Draw the sampled instances.\n",
    "    fig, axn = plt.subplots(y_dimension, x_dimension, sharex=True, sharey=True)\n",
    "    num_axn = len(axn.flat)\n",
    "    for i in range(0, num_axn):\n",
    "        ax = axn.flat[i]\n",
    "        h = sns.heatmap(instances[i], ax=ax)\n",
    "        h.set_yticks([])\n",
    "        h.set_xticks([])"
   ]
  },
  {
   "cell_type": "code",
   "execution_count": null,
   "metadata": {
    "collapsed": false
   },
   "outputs": [],
   "source": [
    "show_instances(\"features\")"
   ]
  },
  {
   "cell_type": "markdown",
   "metadata": {},
   "source": [
    "## Normalization\n",
    "\n",
    "In this Section, we will normalize the feature vectors between the 0 and 1 range."
   ]
  },
  {
   "cell_type": "code",
   "execution_count": null,
   "metadata": {
    "collapsed": false
   },
   "outputs": [],
   "source": [
    "# Clear the dataset in the case you ran this cell before.\n",
    "dataset_train = dataset_train.select(\"features\", \"label\", \"label_encoded\")\n",
    "dataset_test = dataset_test.select(\"features\", \"label\", \"label_encoded\")\n",
    "# Allocate a MinMaxTransformer using Distributed Keras.\n",
    "# o_min -> original_minimum\n",
    "# n_min -> new_minimum\n",
    "transformer = MinMaxTransformer(n_min=0.0, n_max=1.0, \\\n",
    "                                o_min=0.0, o_max=250.0, \\\n",
    "                                input_col=\"features\", \\\n",
    "                                output_col=\"features_normalized\")\n",
    "# Transform the dataset.\n",
    "dataset_train = transformer.transform(dataset_train)\n",
    "dataset_test = transformer.transform(dataset_test)"
   ]
  },
  {
   "cell_type": "code",
   "execution_count": null,
   "metadata": {
    "collapsed": false
   },
   "outputs": [],
   "source": [
    "show_instances(\"features_normalized\")"
   ]
  },
  {
   "cell_type": "markdown",
   "metadata": {},
   "source": [
    "## Convolutions\n",
    "\n",
    "In order to make the dense vectors compatible with convolution operations in Keras, we add another column which contains the matrix form of these images. We provide a utility class (MatrixTransformer), which helps you with this."
   ]
  },
  {
   "cell_type": "code",
   "execution_count": null,
   "metadata": {
    "collapsed": false
   },
   "outputs": [],
   "source": [
    "reshape_transformer = ReshapeTransformer(\"features_normalized\", \"matrix\", (28, 28, 1))\n",
    "dataset_train = reshape_transformer.transform(dataset_train)\n",
    "dataset_test = reshape_transformer.transform(dataset_test)"
   ]
  },
  {
   "cell_type": "markdown",
   "metadata": {},
   "source": [
    "## Model Development"
   ]
  },
  {
   "cell_type": "markdown",
   "metadata": {},
   "source": [
    "### Multilayer Perceptron"
   ]
  },
  {
   "cell_type": "code",
   "execution_count": null,
   "metadata": {
    "collapsed": false
   },
   "outputs": [],
   "source": [
    "mlp = Sequential()\n",
    "mlp.add(Dense(1000, input_shape=(784,)))\n",
    "mlp.add(Activation('relu'))\n",
    "mlp.add(Dense(250))\n",
    "mlp.add(Activation('relu'))\n",
    "mlp.add(Dense(10))\n",
    "mlp.add(Activation('softmax'))"
   ]
  },
  {
   "cell_type": "code",
   "execution_count": null,
   "metadata": {
    "collapsed": false
   },
   "outputs": [],
   "source": [
    "mlp.summary()"
   ]
  },
  {
   "cell_type": "code",
   "execution_count": null,
   "metadata": {
    "collapsed": true
   },
   "outputs": [],
   "source": [
    "optimizer_mlp = 'adam'\n",
    "loss_mlp = 'categorical_crossentropy'"
   ]
  },
  {
   "cell_type": "markdown",
   "metadata": {},
   "source": [
    "### Convolutional network"
   ]
  },
  {
   "cell_type": "code",
   "execution_count": null,
   "metadata": {
    "collapsed": false
   },
   "outputs": [],
   "source": [
    "# Taken from Keras MNIST example.\n",
    "\n",
    "# Declare model parameters.\n",
    "img_rows, img_cols = 28, 28\n",
    "# number of convolutional filters to use\n",
    "nb_filters = 32\n",
    "# size of pooling area for max pooling\n",
    "pool_size = (2, 2)\n",
    "# convolution kernel size\n",
    "kernel_size = (3, 3)\n",
    "input_shape = (img_rows, img_cols, 1)\n",
    "\n",
    "# Construct the model.\n",
    "convnet = Sequential()\n",
    "convnet.add(Convolution2D(nb_filters, kernel_size[0], kernel_size[1],\n",
    "                          border_mode='valid',\n",
    "                          input_shape=input_shape))\n",
    "convnet.add(Activation('relu'))\n",
    "convnet.add(Convolution2D(nb_filters, kernel_size[0], kernel_size[1]))\n",
    "convnet.add(Activation('relu'))\n",
    "convnet.add(MaxPooling2D(pool_size=pool_size))\n",
    "\n",
    "convnet.add(Flatten())\n",
    "convnet.add(Dense(225))\n",
    "convnet.add(Activation('relu'))\n",
    "convnet.add(Dense(nb_classes))\n",
    "convnet.add(Activation('softmax'))"
   ]
  },
  {
   "cell_type": "code",
   "execution_count": null,
   "metadata": {
    "collapsed": false
   },
   "outputs": [],
   "source": [
    "convnet.summary()"
   ]
  },
  {
   "cell_type": "code",
   "execution_count": null,
   "metadata": {
    "collapsed": true
   },
   "outputs": [],
   "source": [
    "optimizer_convnet = 'adam'\n",
    "loss_convnet = 'categorical_crossentropy'"
   ]
  },
  {
   "cell_type": "markdown",
   "metadata": {},
   "source": [
    "## Evaluation\n",
    "\n",
    "We define a utility function which will compute the accuracy for us."
   ]
  },
  {
   "cell_type": "code",
   "execution_count": null,
   "metadata": {
    "collapsed": true
   },
   "outputs": [],
   "source": [
    "def evaluate_accuracy(model, test_set, features=\"features_normalized_dense\"):\n",
    "    evaluator = AccuracyEvaluator(prediction_col=\"prediction_index\", label_col=\"label\")\n",
    "    predictor = ModelPredictor(keras_model=model, features_col=features)\n",
    "    transformer = LabelIndexTransformer(output_dim=nb_classes)\n",
    "    test_set = test_set.select(features, \"label\")\n",
    "    test_set = predictor.predict(test_set)\n",
    "    test_set = transformer.transform(test_set)\n",
    "    score = evaluator.evaluate(test_set)\n",
    "    \n",
    "    return score"
   ]
  },
  {
   "cell_type": "markdown",
   "metadata": {},
   "source": [
    "## Training"
   ]
  },
  {
   "cell_type": "code",
   "execution_count": null,
   "metadata": {
    "collapsed": false
   },
   "outputs": [],
   "source": [
    "dataset_train.printSchema()"
   ]
  },
  {
   "cell_type": "code",
   "execution_count": null,
   "metadata": {
    "collapsed": true
   },
   "outputs": [],
   "source": [
    "dataset_train = dataset_train.select(\"features_normalized\", \"matrix\",\"label\", \"label_encoded\")\n",
    "dataset_test = dataset_test.select(\"features_normalized\", \"matrix\",\"label\", \"label_encoded\")"
   ]
  },
  {
   "cell_type": "code",
   "execution_count": null,
   "metadata": {
    "collapsed": false
   },
   "outputs": [],
   "source": [
    "dense_transformer = DenseTransformer(input_col=\"features_normalized\", output_col=\"features_normalized_dense\")\n",
    "dataset_train = dense_transformer.transform(dataset_train)\n",
    "dataset_test = dense_transformer.transform(dataset_test)\n",
    "dataset_train.repartition(num_workers)\n",
    "dataset_test.repartition(num_workers)"
   ]
  },
  {
   "cell_type": "code",
   "execution_count": null,
   "metadata": {
    "collapsed": false
   },
   "outputs": [],
   "source": [
    "# Assing the training and test set.\n",
    "training_set = dataset_train.repartition(num_workers)\n",
    "test_set = dataset_test.repartition(num_workers)\n",
    "# Cache them.\n",
    "training_set.cache()\n",
    "test_set.cache()"
   ]
  },
  {
   "cell_type": "code",
   "execution_count": null,
   "metadata": {
    "collapsed": false
   },
   "outputs": [],
   "source": [
    "print(training_set.count())"
   ]
  },
  {
   "cell_type": "markdown",
   "metadata": {},
   "source": [
    "### DOWNPOUR (Multilayer Perceptron)"
   ]
  },
  {
   "cell_type": "code",
   "execution_count": null,
   "metadata": {
    "collapsed": false
   },
   "outputs": [],
   "source": [
    "trainer = DOWNPOUR(keras_model=mlp, worker_optimizer=optimizer_mlp, loss=loss_mlp, num_workers=num_workers,\n",
    "                   batch_size=4, communication_window=5, num_epoch=1,\n",
    "                   features_col=\"features_normalized_dense\", label_col=\"label_encoded\")\n",
    "trained_model = trainer.train(training_set)"
   ]
  },
  {
   "cell_type": "code",
   "execution_count": null,
   "metadata": {
    "collapsed": false
   },
   "outputs": [],
   "source": [
    "print(\"Training time: \" + str(trainer.get_training_time()))\n",
    "print(\"Accuracy: \" + str(evaluate_accuracy(trained_model, test_set)))"
   ]
  },
  {
   "cell_type": "code",
   "execution_count": null,
   "metadata": {
    "collapsed": false
   },
   "outputs": [],
   "source": [
    "trainer.parameter_server.num_updates"
   ]
  },
  {
   "cell_type": "markdown",
   "metadata": {},
   "source": [
    "### ADAG (MultiLayer Perceptron)"
   ]
  },
  {
   "cell_type": "code",
   "execution_count": null,
   "metadata": {
    "collapsed": false
   },
   "outputs": [],
   "source": [
    "trainer = ADAG(keras_model=mlp, worker_optimizer=optimizer_mlp, loss=loss_mlp, num_workers=num_workers,\n",
    "               batch_size=4, communication_window=15, num_epoch=1,\n",
    "               features_col=\"features_normalized_dense\", label_col=\"label_encoded\")\n",
    "trained_model = trainer.train(training_set)"
   ]
  },
  {
   "cell_type": "code",
   "execution_count": null,
   "metadata": {
    "collapsed": false
   },
   "outputs": [],
   "source": [
    "print(\"Training time: \" + str(trainer.get_training_time()))\n",
    "print(\"Accuracy: \" + str(evaluate_accuracy(trained_model, test_set)))"
   ]
  },
  {
   "cell_type": "code",
   "execution_count": null,
   "metadata": {
    "collapsed": false,
    "scrolled": true
   },
   "outputs": [],
   "source": [
    "trainer.parameter_server.num_updates"
   ]
  },
  {
   "cell_type": "markdown",
   "metadata": {},
   "source": [
    "### EASGD (MultiLayer Perceptron)"
   ]
  },
  {
   "cell_type": "code",
   "execution_count": null,
   "metadata": {
    "collapsed": true
   },
   "outputs": [],
   "source": [
    "trainer = AEASGD(keras_model=mlp, worker_optimizer=optimizer_mlp, loss=loss_mlp, num_workers=num_workers,\n",
    "                 batch_size=4, communication_window=35, num_epoch=1, features_col=\"features_normalized_dense\",\n",
    "                 label_col=\"label_encoded\")\n",
    "trained_model = trainer.train(training_set)"
   ]
  },
  {
   "cell_type": "code",
   "execution_count": null,
   "metadata": {
    "collapsed": false
   },
   "outputs": [],
   "source": [
    "print(\"Training time: \" + str(trainer.get_training_time()))\n",
    "print(\"Accuracy: \" + str(evaluate_accuracy(trained_model, test_set)))"
   ]
  },
  {
   "cell_type": "code",
   "execution_count": null,
   "metadata": {
    "collapsed": false
   },
   "outputs": [],
   "source": [
    "trainer.parameter_server.num_updates"
   ]
  },
  {
   "cell_type": "markdown",
   "metadata": {},
   "source": [
    "### DOWNPOUR (Convolutional network)"
   ]
  },
  {
   "cell_type": "code",
   "execution_count": null,
   "metadata": {
    "collapsed": false
   },
   "outputs": [],
   "source": [
    "trainer = DOWNPOUR(keras_model=convnet, worker_optimizer=optimizer_convnet, loss=loss_convnet,\n",
    "                   num_workers=num_workers, batch_size=4, communication_window=5,\n",
    "                   num_epoch=1, features_col=\"matrix\", label_col=\"label_encoded\")\n",
    "trainer.set_parallelism_factor(1)\n",
    "trained_model = trainer.train(training_set)"
   ]
  },
  {
   "cell_type": "code",
   "execution_count": null,
   "metadata": {
    "collapsed": false
   },
   "outputs": [],
   "source": [
    "print(\"Training time: \" + str(trainer.get_training_time()))\n",
    "print(\"Accuracy: \" + str(evaluate_accuracy(trained_model, test_set, \"matrix\")))"
   ]
  },
  {
   "cell_type": "code",
   "execution_count": null,
   "metadata": {
    "collapsed": false
   },
   "outputs": [],
   "source": [
    "trainer.parameter_server.num_updates"
   ]
  },
  {
   "cell_type": "markdown",
   "metadata": {},
   "source": [
    "### ADAG (Convolutional network)"
   ]
  },
  {
   "cell_type": "code",
   "execution_count": null,
   "metadata": {
    "collapsed": false
   },
   "outputs": [],
   "source": [
    "trainer = ADAG(keras_model=convnet, worker_optimizer=optimizer_convnet, loss=loss_convnet,\n",
    "               num_workers=num_workers, batch_size=15, communication_window=5, num_epoch=1,\n",
    "               features_col=\"matrix\", label_col=\"label_encoded\")\n",
    "trainer.set_parallelism_factor(1)\n",
    "trained_model = trainer.train(training_set)"
   ]
  },
  {
   "cell_type": "code",
   "execution_count": null,
   "metadata": {
    "collapsed": false
   },
   "outputs": [],
   "source": [
    "print(\"Training time: \" + str(trainer.get_training_time()))\n",
    "print(\"Accuracy: \" + str(evaluate_accuracy(trained_model, test_set, \"matrix\")))"
   ]
  },
  {
   "cell_type": "code",
   "execution_count": null,
   "metadata": {
    "collapsed": false,
    "scrolled": true
   },
   "outputs": [],
   "source": [
    "trainer.parameter_server.num_updates"
   ]
  },
  {
   "cell_type": "markdown",
   "metadata": {},
   "source": [
    "### EASGD (Convolutional network)"
   ]
  },
  {
   "cell_type": "code",
   "execution_count": null,
   "metadata": {
    "collapsed": false
   },
   "outputs": [],
   "source": [
    "trainer = AEASGD(keras_model=convnet, worker_optimizer=optimizer_convnet, loss=loss_convnet, \n",
    "                 num_workers=num_workers, batch_size=35, communication_window=32, num_epoch=1,\n",
    "                 features_col=\"matrix\", label_col=\"label_encoded\")\n",
    "trained_model = trainer.train(training_set)"
   ]
  },
  {
   "cell_type": "code",
   "execution_count": null,
   "metadata": {
    "collapsed": false
   },
   "outputs": [],
   "source": [
    "print(\"Training time: \" + str(trainer.get_training_time()))\n",
    "print(\"Accuracy: \" + str(evaluate_accuracy(trained_model, test_set, \"matrix\")))"
   ]
  },
  {
   "cell_type": "code",
   "execution_count": null,
   "metadata": {
    "collapsed": false
   },
   "outputs": [],
   "source": [
    "trainer.parameter_server.num_updates"
   ]
  }
 ],
 "metadata": {
  "anaconda-cloud": {},
  "kernelspec": {
   "display_name": "Python 2",
   "language": "python",
   "name": "python2"
  },
  "language_info": {
   "codemirror_mode": {
    "name": "ipython",
    "version": 2
   },
   "file_extension": ".py",
   "mimetype": "text/x-python",
   "name": "python",
   "nbconvert_exporter": "python",
   "pygments_lexer": "ipython2",
   "version": "2.7.13"
  }
 },
 "nbformat": 4,
 "nbformat_minor": 0
}
